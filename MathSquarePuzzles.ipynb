{
 "cells": [
  {
   "cell_type": "markdown",
   "id": "97438019",
   "metadata": {},
   "source": [
    "# Math Square Puzzles"
   ]
  },
  {
   "cell_type": "markdown",
   "id": "d6051200",
   "metadata": {},
   "source": [
    "## Tools"
   ]
  },
  {
   "cell_type": "markdown",
   "id": "f8b25932",
   "metadata": {},
   "source": [
    "### Processing / Transcription"
   ]
  },
  {
   "cell_type": "code",
   "execution_count": null,
   "id": "19ba08db",
   "metadata": {},
   "outputs": [],
   "source": [
    "from PIL import Image, ImageDraw, ImageFont"
   ]
  },
  {
   "cell_type": "code",
   "execution_count": null,
   "id": "16a9f0f9",
   "metadata": {},
   "outputs": [],
   "source": [
    "import numpy as np"
   ]
  },
  {
   "cell_type": "code",
   "execution_count": null,
   "id": "44f6c9c9",
   "metadata": {},
   "outputs": [],
   "source": [
    "import pytesseract"
   ]
  },
  {
   "cell_type": "code",
   "execution_count": null,
   "id": "9bd4b52c",
   "metadata": {},
   "outputs": [],
   "source": [
    "def axis_gridding(ax, minwidth=0):\n",
    "    streak_indices = np.argwhere(np.diff(ax)).ravel() # excluding start and end\n",
    "    streak_lengths = np.diff(streak_indices)\n",
    "    streak_centers = streak_indices[:-1] + streak_lengths/2\n",
    "    streak_centers = streak_centers[streak_lengths > ax.size * minwidth]\n",
    "    char_centers = streak_centers[0::2]\n",
    "    n = len(char_centers)\n",
    "    grid_spacing, grid_offset = np.polyfit(np.arange(n), char_centers, 1)\n",
    "    return n, grid_spacing, grid_offset\n",
    "\n",
    "def transcribe_grid(img, threashold=1/6, minwidth=0, verbose=False):\n",
    "    img = img.convert('L')\n",
    "    arr = np.array(img)\n",
    "    bin_arr = arr < 128\n",
    "    \n",
    "    nx, dx, ox = axis_gridding(np.sum(bin_arr, axis=0) > threashold * bin_arr.shape[1], minwidth=minwidth)\n",
    "    ny, dy, oy = axis_gridding(np.sum(bin_arr, axis=1) > threashold * bin_arr.shape[0], minwidth=minwidth)\n",
    "    nx, dx = 2*nx, dx/2\n",
    "    ny, dy = 2*ny, dy/2\n",
    "    if verbose:\n",
    "        print(f\"{nx} columns, spaced {dx}, starting at {ox}\")\n",
    "        print(f\"{ny} rows, spaced {dy}, starting at {oy}\")\n",
    "    #return None, (nx, dx, ox), (ny, dy, oy)\n",
    "\n",
    "    grid = []\n",
    "    for i in range(ny):\n",
    "        grid.append([])\n",
    "        y0 = max(0, oy + i * dy - dy//2 + 3)\n",
    "        y1 = min(img.size[1], oy + i * dy + dy//2 - 3)\n",
    "        for j in range(nx):\n",
    "            x0 = max(0, ox + j * dx - dx//2 + 3)\n",
    "            x1 = min(img.size[0], ox + j * dx + dx//2 - 3)\n",
    "            cimg = img.crop((x0, y0, x1, y1))\n",
    "            if np.sum(np.array(cimg) < 250) == 0 or np.sum(np.array(cimg) > 10) == 0:\n",
    "                c = ''\n",
    "            else:\n",
    "                c = pytesseract.image_to_string(cimg, config='-c tessedit_char_whitelist=0123456789x+-÷ --psm 10').strip()\n",
    "                #c = cimg\n",
    "            grid[-1].append(c)\n",
    "            if verbose:\n",
    "                print(f\"Processed row {i} / {ny}, column {j} / {nx}: {c}\")\n",
    "    return grid, (nx, dx, ox), (ny, dy, oy)"
   ]
  },
  {
   "cell_type": "code",
   "execution_count": null,
   "id": "d40909ac",
   "metadata": {},
   "outputs": [],
   "source": [
    "def check_grid(grid_img, nx, dx, ox, ny, dy, oy):\n",
    "    check_grid_img = grid_img.copy()\n",
    "    draw_check_grid_img = ImageDraw.Draw(check_grid_img)\n",
    "    for i in range(nx):\n",
    "        draw_check_grid_img.line((ox+dx*i,0,ox+dx*i,check_grid_img.size[1]), fill=(255,0,0), width=1)\n",
    "    for i in range(nx):\n",
    "        draw_check_grid_img.line((0,oy+dy*i,check_grid_img.size[0],oy+dy*i), fill=(255,0,0), width=1)\n",
    "    return check_grid_img"
   ]
  },
  {
   "cell_type": "markdown",
   "id": "7479b942",
   "metadata": {},
   "source": [
    "### Equation Extractions / Solving"
   ]
  },
  {
   "cell_type": "code",
   "execution_count": null,
   "id": "4c87ba9e",
   "metadata": {},
   "outputs": [],
   "source": [
    "import z3"
   ]
  },
  {
   "cell_type": "code",
   "execution_count": null,
   "id": "f8b49ecd",
   "metadata": {},
   "outputs": [],
   "source": [
    "import operator"
   ]
  },
  {
   "cell_type": "code",
   "execution_count": null,
   "id": "de7da80e",
   "metadata": {},
   "outputs": [],
   "source": [
    "def add_grid_vars(grid):\n",
    "    return [\n",
    "        [\n",
    "            f\"x_{i}_{j}\" if i%2==0 and j%2==0 and not c else c.replace('x','*') \n",
    "            for j,c in enumerate(row)\n",
    "        ] \n",
    "        for i,row in enumerate(grid)\n",
    "    ]"
   ]
  },
  {
   "cell_type": "code",
   "execution_count": null,
   "id": "77711297",
   "metadata": {},
   "outputs": [],
   "source": [
    "def extract_exprs(grid):\n",
    "    lrows, lcols = len(grid), len(grid[0])\n",
    "    exprs = []\n",
    "    for i in range(lrows//2):\n",
    "        exprs.append([grid[2*i][j] for j in range(lcols)])\n",
    "    for i in range(lcols//2):\n",
    "        exprs.append([grid[j][2*i] for j in range(lrows)])\n",
    "    return exprs"
   ]
  },
  {
   "cell_type": "code",
   "execution_count": null,
   "id": "301df71b",
   "metadata": {},
   "outputs": [],
   "source": [
    "def parse_z3_exprs(exprs, no_remainders=True):\n",
    "    # Parse the order of the operations into a z3 AST using the Shunting-Yard Algorithm\n",
    "    pres = {'+': 2, '-': 2, '*': 3, '/': 3}\n",
    "    opmap = {'+': operator.add, '-': operator.sub, '*': operator.mul, '/': operator.truediv}\n",
    "\n",
    "    consts = set()\n",
    "    z3vars = dict()\n",
    "    eqs = []\n",
    "    for expr in exprs:\n",
    "        opstack = []\n",
    "        result = []\n",
    "        for tok in expr[:-1]:\n",
    "            if tok in pres:\n",
    "                while opstack and pres[opstack[-1]] >= pres[tok]:\n",
    "                    arg1,arg2 = result.pop(),result.pop()\n",
    "                    op = opstack.pop()\n",
    "                    result.append(opmap[op](arg2,arg1))\n",
    "                    if no_remainders and op == '/':\n",
    "                        eqs.append(arg2 % arg1 == 0)\n",
    "                opstack.append(tok)\n",
    "            else:\n",
    "                if tok.startswith('x'):\n",
    "                    if tok not in z3vars:\n",
    "                        # BitVec is far faster than Int, I believe because Int is unbounded\n",
    "                        z3vars[tok] = z3.BitVec(tok, 32)\n",
    "                    result.append(z3vars[tok])\n",
    "                else:\n",
    "                    result.append(int(tok))\n",
    "                    consts.add(int(tok))\n",
    "        while opstack:\n",
    "            arg1,arg2 = result.pop(),result.pop()\n",
    "            op = opstack.pop()\n",
    "            result.append(opmap[op](arg2,arg1))\n",
    "            if no_remainders and op == '/':\n",
    "                eqs.append(arg2 % arg1 == 0)\n",
    "        eqs.append(operator.eq(result.pop(), int(expr[-1])))\n",
    "    return z3vars, eqs, consts"
   ]
  },
  {
   "cell_type": "code",
   "execution_count": null,
   "id": "5479eeed",
   "metadata": {},
   "outputs": [],
   "source": [
    "def grid_to_z3(grid):\n",
    "    expr_grid = add_grid_vars(grid)\n",
    "    exprs = extract_exprs(expr_grid)\n",
    "    return parse_z3_exprs(exprs)"
   ]
  },
  {
   "cell_type": "code",
   "execution_count": null,
   "id": "e6cbdfe6",
   "metadata": {},
   "outputs": [],
   "source": [
    "def setup_solver(z3vars, eqs, consts, maxv):\n",
    "    solver = z3.Solver()\n",
    "    solver.add(eqs)\n",
    "    solver.add(z3.Distinct(list(z3vars.values())))\n",
    "    for v in z3vars.values():\n",
    "        solver.add(1 <= v)\n",
    "        solver.add(v <= maxv)\n",
    "    for v in z3vars.values():\n",
    "        for const in consts:\n",
    "            solver.add(v != const)\n",
    "    return solver"
   ]
  },
  {
   "cell_type": "markdown",
   "id": "3d3d4ac1",
   "metadata": {},
   "source": [
    "## Display Results "
   ]
  },
  {
   "cell_type": "code",
   "execution_count": null,
   "id": "5288e4b3",
   "metadata": {},
   "outputs": [],
   "source": [
    "def draw_solution(img, nx, dx, ox, ny, dy, oy, solution, grid, size, color=(255,0,0)):\n",
    "    solved = img.copy()\n",
    "    draw_solved = ImageDraw.Draw(solved)\n",
    "    font = ImageFont.truetype(\"/System/Library/Fonts/Supplemental/Arial.ttf\", size=size)\n",
    "\n",
    "    for iy in range(ny):\n",
    "        for ix in range(nx):\n",
    "            if grid[iy][ix].startswith('x'):\n",
    "                x, y = int(ox + dx * ix), int(oy + dy * iy)\n",
    "                draw_solved.text((x,y), str(solution[grid[iy][ix]]), font=font, fill=color, anchor='mm')\n",
    "    return solved"
   ]
  },
  {
   "cell_type": "markdown",
   "id": "9e56c57e",
   "metadata": {},
   "source": [
    "## Example 1: u/ThatMadSniper's from Reddit\n",
    "\n",
    "Original post [here](https://www.reddit.com/r/theydidthemath/comments/1emaoko/request_maths_square_puzzle/)"
   ]
  },
  {
   "cell_type": "markdown",
   "id": "f4a747cd",
   "metadata": {},
   "source": [
    "### Open Data"
   ]
  },
  {
   "cell_type": "code",
   "execution_count": null,
   "id": "a5186196",
   "metadata": {},
   "outputs": [],
   "source": [
    "import requests\n",
    "import io"
   ]
  },
  {
   "cell_type": "code",
   "execution_count": null,
   "id": "a2478646",
   "metadata": {},
   "outputs": [],
   "source": [
    "url = \"https://preview.redd.it/request-maths-square-puzzle-v0-8w0pninkl8hd1.png?auto=webp&s=e158a5de22eae940b1889b3c9dbd2922202fedc3\"\n",
    "puzzle_img = Image.open(io.BytesIO(requests.get(url).content))\n",
    "puzzle_img.resize((puzzle_img.size[0]//4, puzzle_img.size[1]//4))"
   ]
  },
  {
   "cell_type": "code",
   "execution_count": null,
   "id": "8b24d264",
   "metadata": {},
   "outputs": [],
   "source": [
    "# Crop to contents and remove extraneous strip for better alignment\n",
    "grid_img = puzzle_img.crop((50,0,puzzle_img.size[0]*0.95,puzzle_img.size[1]*0.7))\n",
    "grid_img = Image.fromarray(np.array(grid_img.convert('L'))[:, (np.arange(grid_img.size[0]) < 736) | (744 < np.arange(grid_img.size[0]))]).convert('RGB')\n",
    "grid_img.resize((grid_img.size[0]//2, grid_img.size[1]//2))"
   ]
  },
  {
   "cell_type": "markdown",
   "id": "803127d3",
   "metadata": {},
   "source": [
    "### Transcribe Image and Apply Corrections"
   ]
  },
  {
   "cell_type": "code",
   "execution_count": null,
   "id": "0feaa93c",
   "metadata": {},
   "outputs": [],
   "source": [
    "grid, (nx, dx, ox), (ny, dy, oy) = transcribe_grid(grid_img, minwidth=1/20)\n",
    "nx,ny"
   ]
  },
  {
   "cell_type": "code",
   "execution_count": null,
   "id": "9a2a2b93",
   "metadata": {},
   "outputs": [],
   "source": [
    "check_grid(grid_img, nx, dx, ox, ny, dy, oy).resize((grid_img.size[0]//3, grid_img.size[1]//3))"
   ]
  },
  {
   "cell_type": "code",
   "execution_count": null,
   "id": "0f365dfc",
   "metadata": {},
   "outputs": [],
   "source": [
    "for row in grid:\n",
    "    print(' '.join(f\"{c: >4}\" for c in row))"
   ]
  },
  {
   "cell_type": "code",
   "execution_count": null,
   "id": "0a81d740",
   "metadata": {},
   "outputs": [],
   "source": [
    "# Corrections\n",
    "grid[1][2] = '/'\n",
    "grid[2][5] = '/'\n",
    "grid = [[c.replace('x','*') for c in row] for row in grid]"
   ]
  },
  {
   "cell_type": "code",
   "execution_count": null,
   "id": "e2f13e6c",
   "metadata": {},
   "outputs": [],
   "source": [
    "for row in grid:\n",
    "    print(' '.join(f\"{c: >4}\" for c in row))"
   ]
  },
  {
   "cell_type": "markdown",
   "id": "d4f429db",
   "metadata": {},
   "source": [
    "### Setup Solver"
   ]
  },
  {
   "cell_type": "code",
   "execution_count": null,
   "id": "ed2e9334",
   "metadata": {},
   "outputs": [],
   "source": [
    "expr_grid = add_grid_vars(grid)"
   ]
  },
  {
   "cell_type": "code",
   "execution_count": null,
   "id": "79873943",
   "metadata": {},
   "outputs": [],
   "source": [
    "exprs = extract_exprs(expr_grid)"
   ]
  },
  {
   "cell_type": "code",
   "execution_count": null,
   "id": "95abf2f4",
   "metadata": {},
   "outputs": [],
   "source": [
    "z3vars, eqs, consts = parse_z3_exprs(exprs)\n",
    "eqs"
   ]
  },
  {
   "cell_type": "code",
   "execution_count": null,
   "id": "03f7c654",
   "metadata": {},
   "outputs": [],
   "source": [
    "solver = setup_solver(z3vars, eqs, consts, (nx//2)**2)\n",
    "solver"
   ]
  },
  {
   "cell_type": "code",
   "execution_count": null,
   "id": "981b7534",
   "metadata": {},
   "outputs": [],
   "source": [
    "%%time\n",
    "solver.check()"
   ]
  },
  {
   "cell_type": "markdown",
   "id": "813d671b",
   "metadata": {},
   "source": [
    "### Return Solution"
   ]
  },
  {
   "cell_type": "code",
   "execution_count": null,
   "id": "4311a612",
   "metadata": {},
   "outputs": [],
   "source": [
    "model = solver.model()\n",
    "solution = {k: model.evaluate(v).as_long() for k,v in z3vars.items()}\n",
    "solution"
   ]
  },
  {
   "cell_type": "code",
   "execution_count": null,
   "id": "34240f60",
   "metadata": {},
   "outputs": [],
   "source": [
    "sol_img = draw_solution(grid_img, nx, dx, ox, ny, dy, oy, solution, expr_grid, 40)\n",
    "sol_img.resize((sol_img.size[0]//2, sol_img.size[1]//2))"
   ]
  },
  {
   "cell_type": "code",
   "execution_count": null,
   "id": "deea4bf2",
   "metadata": {},
   "outputs": [],
   "source": [
    "for row in expr_grid[:-1]:\n",
    "    print(' '.join(f\"{solution[c] if c in solution else c: >2}\" for c in row[:-1]))"
   ]
  },
  {
   "cell_type": "code",
   "execution_count": null,
   "id": "afba21f1",
   "metadata": {},
   "outputs": [],
   "source": [
    "for row in expr_grid[:-1:2]:\n",
    "    print(' '.join(f\"{solution[c] if c in solution else c: >2}\" for c in row[:-1:2]))"
   ]
  },
  {
   "cell_type": "markdown",
   "id": "9b3ca4a3",
   "metadata": {},
   "source": [
    "## Example 2: u/SKYY99999's from Reddit\n",
    "\n",
    "Original post [here](https://www.reddit.com/r/puzzles/comments/1j42efs/need_help_solving_a_huge_math_square/)."
   ]
  },
  {
   "cell_type": "markdown",
   "id": "094ee526",
   "metadata": {},
   "source": [
    "### Open Data"
   ]
  },
  {
   "cell_type": "code",
   "execution_count": null,
   "id": "8bc04407",
   "metadata": {},
   "outputs": [],
   "source": [
    "url = \"https://c.l3n.co/i/YG2MNe.png\"\n",
    "puzzle_img = Image.open(io.BytesIO(requests.get(url).content))\n",
    "puzzle_img.resize((puzzle_img.size[0]//2, puzzle_img.size[1]//2))"
   ]
  },
  {
   "cell_type": "code",
   "execution_count": null,
   "id": "ea6cb4bb",
   "metadata": {},
   "outputs": [],
   "source": [
    "grid_img = puzzle_img.crop((0,0,puzzle_img.size[0],puzzle_img.size[1]*0.75))\n",
    "grid_img = Image.fromarray(np.array(grid_img.convert('L'))[:, (np.arange(grid_img.size[0]) < 679) | (685 < np.arange(grid_img.size[0]))]).convert('RGB')\n",
    "grid_img.resize((grid_img.size[0]//2, grid_img.size[1]//2))"
   ]
  },
  {
   "cell_type": "markdown",
   "id": "0e8d8d9d",
   "metadata": {},
   "source": [
    "### Transcribe Image and Apply Corrections"
   ]
  },
  {
   "cell_type": "code",
   "execution_count": null,
   "id": "b0cb0b82",
   "metadata": {},
   "outputs": [],
   "source": [
    "grid, (nx, dx, ox), (ny, dy, oy) = transcribe_grid(grid_img, minwidth=1/20)\n",
    "nx,ny"
   ]
  },
  {
   "cell_type": "code",
   "execution_count": null,
   "id": "e48efb36",
   "metadata": {},
   "outputs": [],
   "source": [
    "check_grid(grid_img, nx, dx, ox, ny, dy, oy).resize((grid_img.size[0]//2, grid_img.size[1]//2))"
   ]
  },
  {
   "cell_type": "code",
   "execution_count": null,
   "id": "0d92ae0f",
   "metadata": {},
   "outputs": [],
   "source": [
    "for row in grid:\n",
    "    print(' '.join(f\"{c: >4}\" for c in row))"
   ]
  },
  {
   "cell_type": "code",
   "execution_count": null,
   "id": "3a081b08",
   "metadata": {},
   "outputs": [],
   "source": [
    "grid[0][9] = '/'\n",
    "grid[3][0] = '/'\n",
    "grid[3][6] = '/'\n",
    "grid[4][5] = '/'\n",
    "grid = [[c.replace('x','*') for c in row] for row in grid]"
   ]
  },
  {
   "cell_type": "code",
   "execution_count": null,
   "id": "88527322",
   "metadata": {},
   "outputs": [],
   "source": [
    "for row in grid:\n",
    "    print(' '.join(f\"{c: >4}\" for c in row))"
   ]
  },
  {
   "cell_type": "markdown",
   "id": "6d2a976a",
   "metadata": {},
   "source": [
    "### Setup Solver"
   ]
  },
  {
   "cell_type": "code",
   "execution_count": null,
   "id": "bb6d54ec",
   "metadata": {},
   "outputs": [],
   "source": [
    "expr_grid = add_grid_vars(grid)"
   ]
  },
  {
   "cell_type": "code",
   "execution_count": null,
   "id": "4c4de47b",
   "metadata": {},
   "outputs": [],
   "source": [
    "exprs = extract_exprs(expr_grid)"
   ]
  },
  {
   "cell_type": "code",
   "execution_count": null,
   "id": "3aca7a63",
   "metadata": {},
   "outputs": [],
   "source": [
    "z3vars, eqs, consts = parse_z3_exprs(exprs)\n",
    "eqs"
   ]
  },
  {
   "cell_type": "code",
   "execution_count": null,
   "id": "3d00c2ef",
   "metadata": {},
   "outputs": [],
   "source": [
    "solver = setup_solver(z3vars, eqs, consts, (nx//2)**2)\n",
    "solver"
   ]
  },
  {
   "cell_type": "markdown",
   "id": "d04527fe",
   "metadata": {},
   "source": [
    "### Return Solution"
   ]
  },
  {
   "cell_type": "code",
   "execution_count": null,
   "id": "4d546800",
   "metadata": {},
   "outputs": [],
   "source": [
    "%%time\n",
    "solver.check()"
   ]
  },
  {
   "cell_type": "code",
   "execution_count": null,
   "id": "34a4323f",
   "metadata": {},
   "outputs": [],
   "source": [
    "model = solver.model()\n",
    "solution = {k: model.evaluate(v).as_long() for k,v in z3vars.items()}\n",
    "solution"
   ]
  },
  {
   "cell_type": "code",
   "execution_count": null,
   "id": "612eb63b",
   "metadata": {},
   "outputs": [],
   "source": [
    "sol_img = draw_solution(grid_img, nx, dx, ox, ny, dy, oy, solution, expr_grid, 30)\n",
    "sol_img"
   ]
  },
  {
   "cell_type": "code",
   "execution_count": null,
   "id": "6583e9a6",
   "metadata": {},
   "outputs": [],
   "source": [
    "for row in expr_grid[:-1]:\n",
    "    print(' '.join(f\"{solution[c] if c in solution else c: >2}\" for c in row[:-1]))"
   ]
  },
  {
   "cell_type": "code",
   "execution_count": null,
   "id": "ec437127",
   "metadata": {},
   "outputs": [],
   "source": [
    "for row in expr_grid[:-1:2]:\n",
    "    print(' '.join(f\"{solution[c] if c in solution else c: >2}\" for c in row[:-1:2]))"
   ]
  },
  {
   "cell_type": "code",
   "execution_count": null,
   "id": "9e4cc342",
   "metadata": {},
   "outputs": [],
   "source": [
    "solutions = []\n",
    "while solver.check() == z3.sat:\n",
    "    model = solver.model()\n",
    "    solution = {k: model.evaluate(v).as_long() for k,v in z3vars.items()}\n",
    "    solutions.append(solution)\n",
    "    solver.add(z3.Or(*[v != model.evaluate(v) for v in z3vars.values()]))\n",
    "    print(f'found {len(solutions)} solutions, latest:', {k: model.evaluate(v).as_long() for k,v in z3vars.items()})"
   ]
  },
  {
   "cell_type": "code",
   "execution_count": null,
   "id": "c8eb5a62",
   "metadata": {},
   "outputs": [],
   "source": [
    "len(solutions)"
   ]
  },
  {
   "cell_type": "code",
   "execution_count": null,
   "id": "335dfb14",
   "metadata": {},
   "outputs": [],
   "source": [
    "solutions"
   ]
  },
  {
   "cell_type": "code",
   "execution_count": null,
   "id": "c720e08b",
   "metadata": {},
   "outputs": [],
   "source": []
  }
 ],
 "metadata": {
  "kernelspec": {
   "display_name": "Python 3",
   "language": "python",
   "name": "python3"
  },
  "language_info": {
   "codemirror_mode": {
    "name": "ipython",
    "version": 3
   },
   "file_extension": ".py",
   "mimetype": "text/x-python",
   "name": "python",
   "nbconvert_exporter": "python",
   "pygments_lexer": "ipython3",
   "version": "3.11.7"
  }
 },
 "nbformat": 4,
 "nbformat_minor": 5
}
