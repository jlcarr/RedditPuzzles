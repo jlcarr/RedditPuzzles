{
 "cells": [
  {
   "cell_type": "markdown",
   "id": "97438019",
   "metadata": {},
   "source": [
    "# Sum Spots\n",
    "\n",
    "https://www.reddit.com/r/puzzles/comments/1men71x/sum_spotslevel_of_difficulty_high/\n",
    "\n",
    "u/mhmhbetter1 posted a picture of a puzzle from a Penny Dell pulp puzzle magazine. This one seems to be a Magic Square variant, probably easier.\n",
    "\n",
    "It's always fun to practice constrain programming with Z3."
   ]
  },
  {
   "cell_type": "markdown",
   "id": "f8b25932",
   "metadata": {},
   "source": [
    "## Problem Transcription"
   ]
  },
  {
   "cell_type": "code",
   "execution_count": null,
   "id": "a6f9432e",
   "metadata": {},
   "outputs": [],
   "source": [
    "n = 4"
   ]
  },
  {
   "cell_type": "code",
   "execution_count": null,
   "id": "44f6c9c9",
   "metadata": {},
   "outputs": [],
   "source": [
    "# (value, [upper-left dot, upper-right dot, lower-left dot, lower-right dot])\n",
    "tiles = [\n",
    "    (28, [True, False, False, True]),\n",
    "    (22, [True, False, False, True]),\n",
    "    (8, [True, False, True, True]),\n",
    "    (19, [True, False, True, True]),\n",
    "    (12, [True, False, False, True]),\n",
    "    (17, [True, False, False, True]),\n",
    "    (21, [True, True, True, False]),\n",
    "    (5, [False, True, True, False]),\n",
    "    (23, [False, True, True, True]),\n",
    "    (9, [False, True, True, False]),\n",
    "    (10, [True, True, False, True]),\n",
    "    (6, [True, False, False, True]),\n",
    "    (18, [False, True, True, False]),\n",
    "    (24, [False, True, True, True]),\n",
    "    (15, [True, True, True, False]),\n",
    "    (7, [False, True, True, False]),\n",
    "]\n",
    "\n",
    "# (index, (row, col))\n",
    "placed_tiles = [(n*n-1, (2,2))]"
   ]
  },
  {
   "cell_type": "markdown",
   "id": "7479b942",
   "metadata": {},
   "source": [
    "## Problem Definition in Z3\n",
    "\n",
    "We can define the problem by making an variable for each cell in the grid, these values must be distinct, and can only take on the values of the tiles. For a given tile value will imply the dot pattern around it. Notice by transitivity all dots around a corner must have the same color (even though the instructions say this isn't necessarily so), so we can define a single boolean variable for the dot color at every shared corner."
   ]
  },
  {
   "cell_type": "code",
   "execution_count": null,
   "id": "4c87ba9e",
   "metadata": {},
   "outputs": [],
   "source": [
    "import z3"
   ]
  },
  {
   "cell_type": "markdown",
   "id": "de1a5a47",
   "metadata": {},
   "source": [
    "### Variables\n",
    "\n",
    "As state, we need an integer variable for every cell in the grid."
   ]
  },
  {
   "cell_type": "code",
   "execution_count": null,
   "id": "0f35c330",
   "metadata": {},
   "outputs": [],
   "source": [
    "grid_vars = []\n",
    "for i in range(n):\n",
    "    grid_vars.append([])\n",
    "    for j in range(n):\n",
    "        grid_vars[-1].append(z3.Int(f\"v_{i}_{j}\"))\n",
    "\n",
    "grid_vars"
   ]
  },
  {
   "cell_type": "markdown",
   "id": "042f306e",
   "metadata": {},
   "source": [
    "And a boolean variable for every shared corner."
   ]
  },
  {
   "cell_type": "code",
   "execution_count": null,
   "id": "4fba1622",
   "metadata": {},
   "outputs": [],
   "source": [
    "dot_vars = []\n",
    "for i in range(n+1):\n",
    "    dot_vars.append([])\n",
    "    for j in range(n+1):\n",
    "        dot_vars[-1].append(z3.Bool(f\"d_{i}_{j}\"))\n",
    "        \n",
    "dot_vars"
   ]
  },
  {
   "cell_type": "markdown",
   "id": "13181286",
   "metadata": {},
   "source": [
    "### Constraints"
   ]
  },
  {
   "cell_type": "code",
   "execution_count": null,
   "id": "ed7252a5",
   "metadata": {},
   "outputs": [],
   "source": [
    "solver = z3.Solver()"
   ]
  },
  {
   "cell_type": "markdown",
   "id": "586b97ab",
   "metadata": {},
   "source": [
    "We can add the initial conditions by simple specifying the cell value."
   ]
  },
  {
   "cell_type": "code",
   "execution_count": null,
   "id": "8e503436",
   "metadata": {},
   "outputs": [],
   "source": [
    "for index,(i,j) in placed_tiles:\n",
    "    v,dots = tiles[index]\n",
    "    solver.add(grid_vars[i][j] == v)"
   ]
  },
  {
   "cell_type": "markdown",
   "id": "0cd18612",
   "metadata": {},
   "source": [
    "We should make sure the each cell's value must be one of the tiles. Also given a cell's value, it implies a specific dot pattern about it."
   ]
  },
  {
   "cell_type": "code",
   "execution_count": null,
   "id": "e76ef3af",
   "metadata": {},
   "outputs": [],
   "source": [
    "for i,row in enumerate(grid_vars):\n",
    "    for j,var in enumerate(row):\n",
    "        # must be one of the tiles\n",
    "        solver.add(z3.Or([var == v for v,dots in tiles]))\n",
    "        # each tiles has its dot pattern\n",
    "        for v,dots in tiles:\n",
    "            solver.add(z3.Implies(var == v, z3.And([dot_vars[i + k//2][j + k%2] == dots[k] for k in range(4)])))"
   ]
  },
  {
   "cell_type": "markdown",
   "id": "b5c62910",
   "metadata": {},
   "source": [
    "The cells must be unique values."
   ]
  },
  {
   "cell_type": "code",
   "execution_count": null,
   "id": "d04bf9a6",
   "metadata": {},
   "outputs": [],
   "source": [
    "solver.add(z3.Distinct([var for row in grid_vars for var in row]))"
   ]
  },
  {
   "cell_type": "markdown",
   "id": "18145c70",
   "metadata": {},
   "source": [
    "Finally, we have the constraint that every row and column, and diagonal, must sum to 61"
   ]
  },
  {
   "cell_type": "code",
   "execution_count": null,
   "id": "b1d8f436",
   "metadata": {},
   "outputs": [],
   "source": [
    "for i in range(n):\n",
    "    solver.add(sum(grid_vars[i][j] for j in range(n)) == 61)\n",
    "    solver.add(sum(grid_vars[j][i] for j in range(n)) == 61)\n",
    "solver.add(sum(grid_vars[i][i] for i in range(n)) == 61)\n",
    "solver.add(sum(grid_vars[n-1-i][i] for i in range(n)) == 61)"
   ]
  },
  {
   "cell_type": "code",
   "execution_count": null,
   "id": "dd2ad166",
   "metadata": {},
   "outputs": [],
   "source": [
    "solver.assertions()"
   ]
  },
  {
   "cell_type": "markdown",
   "id": "a09c4fc0",
   "metadata": {},
   "source": [
    "## Performing the Solve"
   ]
  },
  {
   "cell_type": "code",
   "execution_count": null,
   "id": "bb881979",
   "metadata": {},
   "outputs": [],
   "source": [
    "%%time\n",
    "solver.check()"
   ]
  },
  {
   "cell_type": "markdown",
   "id": "f8191ea4",
   "metadata": {},
   "source": [
    "## Checking Results"
   ]
  },
  {
   "cell_type": "code",
   "execution_count": null,
   "id": "0a299bfb",
   "metadata": {},
   "outputs": [],
   "source": [
    "model = solver.model()"
   ]
  },
  {
   "cell_type": "code",
   "execution_count": null,
   "id": "6eb303d7",
   "metadata": {},
   "outputs": [],
   "source": [
    "solution = [[model.evaluate(var).as_long() for j,var in enumerate(row)] for i,row in enumerate(grid_vars)]\n",
    "\n",
    "for row in solution:\n",
    "    print(\" \".join(list(map(str,row))))"
   ]
  },
  {
   "cell_type": "code",
   "execution_count": null,
   "id": "b37131e8",
   "metadata": {},
   "outputs": [],
   "source": []
  }
 ],
 "metadata": {
  "kernelspec": {
   "display_name": "Python 3",
   "language": "python",
   "name": "python3"
  },
  "language_info": {
   "codemirror_mode": {
    "name": "ipython",
    "version": 3
   },
   "file_extension": ".py",
   "mimetype": "text/x-python",
   "name": "python",
   "nbconvert_exporter": "python",
   "pygments_lexer": "ipython3",
   "version": "3.11.7"
  }
 },
 "nbformat": 4,
 "nbformat_minor": 5
}
