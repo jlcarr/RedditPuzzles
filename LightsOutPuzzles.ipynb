{
 "cells": [
  {
   "cell_type": "markdown",
   "id": "97438019",
   "metadata": {},
   "source": [
    "# Lights Out Puzzles\n",
    "\n",
    "https://www.reddit.com/r/puzzles/comments/1lrive7/what_is_this_type_of_puzzle_called_and_how_can_i/\n",
    "\n",
    "https://en.wikipedia.org/wiki/Lights_Out_(game)\n",
    "\n",
    "These puzzles can be written in terms of either solving (or maximizing a linear objective function) for a system of linear equations over a finite field.\n",
    "\n",
    "https://en.wikipedia.org/wiki/Finite_field"
   ]
  },
  {
   "cell_type": "markdown",
   "id": "f8b25932",
   "metadata": {},
   "source": [
    "## Transcription"
   ]
  },
  {
   "cell_type": "code",
   "execution_count": null,
   "id": "19ba08db",
   "metadata": {},
   "outputs": [],
   "source": [
    "from PIL import Image, ImageDraw, ImageFont"
   ]
  },
  {
   "cell_type": "code",
   "execution_count": null,
   "id": "16a9f0f9",
   "metadata": {},
   "outputs": [],
   "source": [
    "import numpy as np"
   ]
  },
  {
   "cell_type": "code",
   "execution_count": null,
   "id": "44f6c9c9",
   "metadata": {},
   "outputs": [],
   "source": [
    "import pytesseract"
   ]
  },
  {
   "cell_type": "code",
   "execution_count": null,
   "id": "9bd4b52c",
   "metadata": {},
   "outputs": [],
   "source": [
    "def transcribe_grid(img, n, margin=0, threshold=128, verbose=False):\n",
    "    img = img.convert('L')\n",
    "    arr = np.array(img)\n",
    "    bin_arr = arr > threshold\n",
    "    img = Image.fromarray(bin_arr)\n",
    "    \n",
    "    dx, dy = np.array(img.size) // n\n",
    "\n",
    "    if verbose:\n",
    "        print(f\"{n} columns, spaced {dx}\")\n",
    "        print(f\"{n} rows, spaced {dy}\")\n",
    "\n",
    "    grid = []\n",
    "    for i in range(n):\n",
    "        grid.append([])\n",
    "        for j in range(n):\n",
    "            cimg = img.crop((j * dx, i * dy, (j+1) * dx, (i+1) * dy))\n",
    "            cimg = cimg.crop(np.array(cimg.size * 2) * np.array([0.1, 0.1, 1-margin, 1-margin]))\n",
    "            c = pytesseract.image_to_string(cimg, config='-c tessedit_char_whitelist=0123456789x+-÷ --psm 10').strip()\n",
    "            grid[-1].append(c)\n",
    "            if verbose:\n",
    "                print(f\"Processed row {i} / {n}, column {j} / {n}: {c}\")\n",
    "            #return cimg\n",
    "    return grid"
   ]
  },
  {
   "cell_type": "markdown",
   "id": "f4a747cd",
   "metadata": {},
   "source": [
    "### Fetch the Data"
   ]
  },
  {
   "cell_type": "code",
   "execution_count": null,
   "id": "a5186196",
   "metadata": {},
   "outputs": [],
   "source": [
    "import requests\n",
    "import io"
   ]
  },
  {
   "cell_type": "code",
   "execution_count": null,
   "id": "a2478646",
   "metadata": {},
   "outputs": [],
   "source": [
    "url = \"https://preview.redd.it/what-is-this-type-of-puzzle-called-and-how-can-i-solve-it-v0-03kkmm081vaf1.png?width=640&crop=smart&auto=webp&s=a2a376c723a96a8a095739291b5a8fe1a75da34d\"\n",
    "puzzle_img = Image.open(io.BytesIO(requests.get(url).content))\n",
    "#puzzle_img.resize((puzzle_img.size[0]//4, puzzle_img.size[1]//4))\n",
    "puzzle_img"
   ]
  },
  {
   "cell_type": "markdown",
   "id": "90c4c732",
   "metadata": {},
   "source": [
    "### Apply the Transcription"
   ]
  },
  {
   "cell_type": "code",
   "execution_count": null,
   "id": "8b24d264",
   "metadata": {},
   "outputs": [],
   "source": [
    "cropped_img = puzzle_img.crop(np.array(puzzle_img.size * 2) * np.array([0.25, 0.15, 0.9, 0.8]))\n",
    "cropped_img"
   ]
  },
  {
   "cell_type": "code",
   "execution_count": null,
   "id": "f18d3abb",
   "metadata": {},
   "outputs": [],
   "source": [
    "n = 4"
   ]
  },
  {
   "cell_type": "code",
   "execution_count": null,
   "id": "3763d143",
   "metadata": {},
   "outputs": [],
   "source": [
    "grid = transcribe_grid(cropped_img, n, margin=0.25, threshold=64, verbose=True)\n",
    "grid"
   ]
  },
  {
   "cell_type": "markdown",
   "id": "803127d3",
   "metadata": {},
   "source": [
    "### Apply Corrections"
   ]
  },
  {
   "cell_type": "code",
   "execution_count": null,
   "id": "3c5be2d4",
   "metadata": {
    "scrolled": true
   },
   "outputs": [],
   "source": [
    "grid = np.array([[int(v) for v in row] for row in grid])\n",
    "grid[1][0] = -1\n",
    "grid"
   ]
  },
  {
   "cell_type": "markdown",
   "id": "7479b942",
   "metadata": {},
   "source": [
    "## Solving with Z3"
   ]
  },
  {
   "cell_type": "markdown",
   "id": "de17eb52",
   "metadata": {},
   "source": [
    "### Solver Setup"
   ]
  },
  {
   "cell_type": "code",
   "execution_count": null,
   "id": "4c87ba9e",
   "metadata": {},
   "outputs": [],
   "source": [
    "import z3"
   ]
  },
  {
   "cell_type": "code",
   "execution_count": null,
   "id": "f8b49ecd",
   "metadata": {},
   "outputs": [],
   "source": [
    "def create_grid_vars(n):\n",
    "    row_vars = [z3.Int(f\"row_{i}\") for i in range(n)]\n",
    "    col_vars = [z3.Int(f\"col_{i}\") for i in range(n)]\n",
    "    return row_vars, col_vars"
   ]
  },
  {
   "cell_type": "code",
   "execution_count": null,
   "id": "e6cbdfe6",
   "metadata": {},
   "outputs": [],
   "source": [
    "def setup_solver(row_vars, col_vars, grid):\n",
    "    solver = z3.Optimize()\n",
    "    \n",
    "    for v in row_vars:\n",
    "        solver.add(z3.And(0 <= v, v < 3))\n",
    "    for v in col_vars:\n",
    "        solver.add(z3.And(0 <= v, v < 3))\n",
    "        \n",
    "    objective = solver.maximize(sum( \n",
    "        (grid[i][j] - row_vars[i] - col_vars[j]) % 3\n",
    "        for i in range(n)\n",
    "        for j in range(n)\n",
    "    ))\n",
    "        \n",
    "    return solver, objective"
   ]
  },
  {
   "cell_type": "markdown",
   "id": "3d3d4ac1",
   "metadata": {},
   "source": [
    "### Apply to Problem"
   ]
  },
  {
   "cell_type": "code",
   "execution_count": null,
   "id": "b9dfaf9e",
   "metadata": {},
   "outputs": [],
   "source": [
    "row_vars, col_vars = create_grid_vars(n)\n",
    "row_vars, col_vars"
   ]
  },
  {
   "cell_type": "code",
   "execution_count": null,
   "id": "d65c39c9",
   "metadata": {},
   "outputs": [],
   "source": [
    "solver, objective = setup_solver(row_vars, col_vars, grid+1)"
   ]
  },
  {
   "cell_type": "code",
   "execution_count": null,
   "id": "6434ca8c",
   "metadata": {},
   "outputs": [],
   "source": [
    "%%time\n",
    "solver.check()"
   ]
  },
  {
   "cell_type": "code",
   "execution_count": null,
   "id": "af41cfe0",
   "metadata": {},
   "outputs": [],
   "source": [
    "model = solver.model()"
   ]
  },
  {
   "cell_type": "code",
   "execution_count": null,
   "id": "d66221da",
   "metadata": {},
   "outputs": [],
   "source": [
    "objective.value().as_long() - n*n"
   ]
  },
  {
   "cell_type": "code",
   "execution_count": null,
   "id": "14c47d65",
   "metadata": {},
   "outputs": [],
   "source": [
    "for i in range(n):\n",
    "    print(f\"- Press row {i+1} {model.evaluate(row_vars[i]).as_long()} times\")\n",
    "for i in range(n):\n",
    "    print(f\"- Press column {i+1} {model.evaluate(col_vars[i]).as_long()} times\")"
   ]
  },
  {
   "cell_type": "markdown",
   "id": "5b8d61d5",
   "metadata": {},
   "source": [
    "## Additional Analysis"
   ]
  },
  {
   "cell_type": "markdown",
   "id": "2b9bc84d",
   "metadata": {},
   "source": [
    "The total number of states for the board (would actually be brute-forcible):"
   ]
  },
  {
   "cell_type": "code",
   "execution_count": null,
   "id": "0d341506",
   "metadata": {},
   "outputs": [],
   "source": [
    "3**(n*n)"
   ]
  },
  {
   "cell_type": "markdown",
   "id": "22e9e6f5",
   "metadata": {},
   "source": [
    "Total number of distinct button presses (easily brute-forcible):"
   ]
  },
  {
   "cell_type": "code",
   "execution_count": null,
   "id": "7d12dc1d",
   "metadata": {},
   "outputs": [],
   "source": [
    "3**(2*n)"
   ]
  },
  {
   "cell_type": "markdown",
   "id": "cb166230",
   "metadata": {},
   "source": [
    "### Reachable States"
   ]
  },
  {
   "cell_type": "markdown",
   "id": "1cde4c69",
   "metadata": {},
   "source": [
    "As some comments have pointed out, the total number of button presses isn't the total number reachable states, as distinct button presses can lead to the same state (consider pressing no buttons, versus pressing all rows once and all columns twice, and versus vice versa)."
   ]
  },
  {
   "cell_type": "code",
   "execution_count": null,
   "id": "40c35b59",
   "metadata": {},
   "outputs": [],
   "source": [
    "# X = [row_vals, col_vars]\n",
    "A = np.array([[0] * (2*n) for i in range(n*n)])\n",
    "for i in range(n):\n",
    "    for j in range(n):\n",
    "        A[n * i + j,i] = -1\n",
    "for i in range(n):\n",
    "    for j in range(n):\n",
    "        A[n * j + i,n + i] = -1\n",
    "A"
   ]
  },
  {
   "cell_type": "code",
   "execution_count": null,
   "id": "5f182e5b",
   "metadata": {},
   "outputs": [],
   "source": [
    "b = grid.flatten()+1"
   ]
  },
  {
   "cell_type": "markdown",
   "id": "1cf6b5d2",
   "metadata": {},
   "source": [
    "We can create a unique identifier for each states with the base 3 number system."
   ]
  },
  {
   "cell_type": "code",
   "execution_count": null,
   "id": "e517115c",
   "metadata": {},
   "outputs": [],
   "source": [
    "def reachable_states(A, b):\n",
    "    states_visited = set()\n",
    "    for i in range(3**(2*n)):\n",
    "        X = np.array([(i // 3**j) % 3 for j in range(A.shape[1])])\n",
    "        state = (A.dot(X) + b) % 3\n",
    "        uid = sum([d * 3**j for j,d in enumerate(state)])\n",
    "        states_visited.add(uid)\n",
    "    return states_visited"
   ]
  },
  {
   "cell_type": "code",
   "execution_count": null,
   "id": "6c9af5c6",
   "metadata": {},
   "outputs": [],
   "source": [
    "states_visited = reachable_states(A, b)"
   ]
  },
  {
   "cell_type": "code",
   "execution_count": null,
   "id": "9152e275",
   "metadata": {},
   "outputs": [],
   "source": [
    "len(states_visited)"
   ]
  },
  {
   "cell_type": "markdown",
   "id": "ef709100",
   "metadata": {},
   "source": [
    "Interestingly the number of reachable states, $2187$, is $3^7$. Coincidence? Probably not, but I can't be bothered to determine why."
   ]
  },
  {
   "cell_type": "markdown",
   "id": "e5461a19",
   "metadata": {},
   "source": [
    "### Perfect Scores\n",
    "\n",
    "How many states are reachable in the set of perfect scores?"
   ]
  },
  {
   "cell_type": "code",
   "execution_count": null,
   "id": "61644924",
   "metadata": {},
   "outputs": [],
   "source": [
    "perfect_states = reachable_states(A, 2*np.ones_like(b))\n",
    "len(perfect_states)"
   ]
  },
  {
   "cell_type": "markdown",
   "id": "18f2e40e",
   "metadata": {},
   "source": [
    "The same as before. As a fraction of the total number of possible board states this is:"
   ]
  },
  {
   "cell_type": "code",
   "execution_count": null,
   "id": "38928ae0",
   "metadata": {},
   "outputs": [],
   "source": [
    "len(perfect_states) / 3 ** (n*n)"
   ]
  },
  {
   "cell_type": "code",
   "execution_count": null,
   "id": "7863669f",
   "metadata": {},
   "outputs": [],
   "source": [
    "3 ** (n*n) / len(perfect_states)"
   ]
  },
  {
   "cell_type": "markdown",
   "id": "1b952b05",
   "metadata": {},
   "source": [
    "Right, this is effectively the same as $3^{9}$"
   ]
  },
  {
   "cell_type": "markdown",
   "id": "c1ce2cb5",
   "metadata": {},
   "source": [
    "### Change of Being Able to Score 15\n",
    "u/yagizandro mentioned that the game has an award for reaching a score of 15, and each game starts with a random configuration. What is the probability of having a board upon which a score of 15 is possible?"
   ]
  },
  {
   "cell_type": "code",
   "execution_count": null,
   "id": "3caf4c99",
   "metadata": {},
   "outputs": [],
   "source": [
    "nigh_perfect_states = set()\n",
    "for i in range(n*n):\n",
    "    nigh_perfect_states |= reachable_states(A, 2*np.ones_like(b) - (np.arange(n*n)==i))"
   ]
  },
  {
   "cell_type": "code",
   "execution_count": null,
   "id": "d6dd95da",
   "metadata": {},
   "outputs": [],
   "source": [
    "len(nigh_perfect_states)"
   ]
  },
  {
   "cell_type": "markdown",
   "id": "ef491d57",
   "metadata": {},
   "source": [
    "This is $2^{4} \\cdot 3^{7}$"
   ]
  },
  {
   "cell_type": "code",
   "execution_count": null,
   "id": "28609e5c",
   "metadata": {},
   "outputs": [],
   "source": [
    "len(nigh_perfect_states) / 3 ** (n*n)"
   ]
  },
  {
   "cell_type": "code",
   "execution_count": null,
   "id": "35137d96",
   "metadata": {},
   "outputs": [],
   "source": [
    "3 ** (n*n) / len(nigh_perfect_states)"
   ]
  },
  {
   "cell_type": "markdown",
   "id": "24a032c8",
   "metadata": {},
   "source": [
    "What about 15 or a perfect score?"
   ]
  },
  {
   "cell_type": "code",
   "execution_count": null,
   "id": "1e714a0e",
   "metadata": {},
   "outputs": [],
   "source": [
    "len(nigh_perfect_states | perfect_states)"
   ]
  },
  {
   "cell_type": "markdown",
   "id": "935146b4",
   "metadata": {},
   "source": [
    "This is $17 \\cdot 3^{7}$"
   ]
  },
  {
   "cell_type": "code",
   "execution_count": null,
   "id": "4f5ac458",
   "metadata": {},
   "outputs": [],
   "source": [
    "len(nigh_perfect_states | perfect_states) / 3 ** (n*n)"
   ]
  },
  {
   "cell_type": "code",
   "execution_count": null,
   "id": "e7538183",
   "metadata": {},
   "outputs": [],
   "source": [
    "3 ** (n*n) / len(nigh_perfect_states | perfect_states)"
   ]
  },
  {
   "cell_type": "markdown",
   "id": "2d0171a8",
   "metadata": {},
   "source": [
    "This matches the values u/Motor_Raspberry_2150 computed"
   ]
  },
  {
   "cell_type": "code",
   "execution_count": null,
   "id": "6b390882",
   "metadata": {},
   "outputs": [],
   "source": []
  }
 ],
 "metadata": {
  "kernelspec": {
   "display_name": "Python 3",
   "language": "python",
   "name": "python3"
  },
  "language_info": {
   "codemirror_mode": {
    "name": "ipython",
    "version": 3
   },
   "file_extension": ".py",
   "mimetype": "text/x-python",
   "name": "python",
   "nbconvert_exporter": "python",
   "pygments_lexer": "ipython3",
   "version": "3.11.7"
  }
 },
 "nbformat": 4,
 "nbformat_minor": 5
}
