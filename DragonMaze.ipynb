{
 "cells": [
  {
   "cell_type": "markdown",
   "id": "eba12afa",
   "metadata": {},
   "source": [
    "# Dragon Maze Magic Word Square from u/SunsetLightMountain"
   ]
  },
  {
   "cell_type": "markdown",
   "id": "c27a4e82",
   "metadata": {},
   "source": [
    "## Setup"
   ]
  },
  {
   "cell_type": "markdown",
   "id": "68099c28",
   "metadata": {},
   "source": [
    "### Wordlist"
   ]
  },
  {
   "cell_type": "code",
   "execution_count": null,
   "id": "d649b6e1",
   "metadata": {},
   "outputs": [],
   "source": [
    "import requests"
   ]
  },
  {
   "cell_type": "code",
   "execution_count": null,
   "id": "4501924c",
   "metadata": {},
   "outputs": [],
   "source": [
    "#r = requests.get(\"https://www.mit.edu/~ecprice/wordlist.10000\")\n",
    "r = requests.get(\"https://raw.githubusercontent.com/dwyl/english-words/master/words_alpha.txt\")\n",
    "wordlist = r.text.splitlines()\n",
    "len(wordlist)"
   ]
  },
  {
   "cell_type": "code",
   "execution_count": null,
   "id": "f5217284",
   "metadata": {},
   "outputs": [],
   "source": [
    "grid_size = 5"
   ]
  },
  {
   "cell_type": "code",
   "execution_count": null,
   "id": "05cf8b6e",
   "metadata": {},
   "outputs": [],
   "source": [
    "wordlist = [w for w in wordlist if len(w)==grid_size]\n",
    "len(wordlist)"
   ]
  },
  {
   "cell_type": "markdown",
   "id": "5f3756fb",
   "metadata": {},
   "source": [
    "### Tools"
   ]
  },
  {
   "cell_type": "code",
   "execution_count": null,
   "id": "a33e832b",
   "metadata": {},
   "outputs": [],
   "source": [
    "from collections import Counter"
   ]
  },
  {
   "cell_type": "code",
   "execution_count": null,
   "id": "b5a342f3",
   "metadata": {},
   "outputs": [],
   "source": [
    "import bisect"
   ]
  },
  {
   "cell_type": "code",
   "execution_count": null,
   "id": "de86262b",
   "metadata": {},
   "outputs": [],
   "source": [
    "wordlist_counts = [Counter(w) for w in wordlist]"
   ]
  },
  {
   "cell_type": "markdown",
   "id": "f7eca1d1",
   "metadata": {},
   "source": [
    "### Problem Definition"
   ]
  },
  {
   "cell_type": "code",
   "execution_count": null,
   "id": "9fa91135",
   "metadata": {},
   "outputs": [],
   "source": [
    "letters = Counter({'a':2,'e':2,'k':1,'m':2,'n':2,'o':4,'p':2,'r':4,'s':3,'t':3})\n",
    "sum(letters.values())"
   ]
  },
  {
   "cell_type": "markdown",
   "id": "547d9753",
   "metadata": {},
   "source": [
    "## Solution"
   ]
  },
  {
   "cell_type": "markdown",
   "id": "4175cdd7",
   "metadata": {},
   "source": [
    "### Algorithm"
   ]
  },
  {
   "cell_type": "code",
   "execution_count": null,
   "id": "728fb987",
   "metadata": {},
   "outputs": [],
   "source": [
    "def rec(depth, letters, curr, verbose=False):\n",
    "    if verbose:\n",
    "        print(f\"At depth {depth}, current solution: {curr}\")\n",
    "    if depth == grid_size:\n",
    "        return curr\n",
    "    prefix = ''.join(pword[depth] for pword in curr)\n",
    "    istart = bisect.bisect_left(wordlist, prefix)\n",
    "    iend = bisect.bisect_left(wordlist, prefix[:-1]+chr(ord(prefix[-1])+1)) if prefix else len(wordlist)\n",
    "\n",
    "    for iw in range(istart,iend):\n",
    "        word = wordlist[iw]\n",
    "        letter_count = wordlist_counts[iw]\n",
    "        if letter_count <= letters:\n",
    "            if verbose:\n",
    "                print(f'Trying {word} at depth {depth}')\n",
    "            letters -= letter_count\n",
    "            curr.append(word)\n",
    "            solution = rec(depth+1, letters, curr, verbose=verbose)\n",
    "            if solution is not None:\n",
    "                return solution\n",
    "            curr.pop()\n",
    "            letters += letter_count\n",
    "    return None"
   ]
  },
  {
   "cell_type": "markdown",
   "id": "b3a851e2",
   "metadata": {},
   "source": [
    "### Perform Solve"
   ]
  },
  {
   "cell_type": "code",
   "execution_count": null,
   "id": "a829db22",
   "metadata": {},
   "outputs": [],
   "source": [
    "result = rec(0, letters.copy(), [])\n",
    "result"
   ]
  },
  {
   "cell_type": "markdown",
   "id": "fc63c492",
   "metadata": {},
   "source": [
    "### Display Solution"
   ]
  },
  {
   "cell_type": "code",
   "execution_count": null,
   "id": "0a6e719f",
   "metadata": {},
   "outputs": [],
   "source": [
    "for w in result:\n",
    "    print(''.join(w))"
   ]
  },
  {
   "cell_type": "markdown",
   "id": "cc747ed6",
   "metadata": {},
   "source": [
    "### Further Question: Is There More Than 1 Solution?"
   ]
  },
  {
   "cell_type": "code",
   "execution_count": null,
   "id": "3adc2921",
   "metadata": {},
   "outputs": [],
   "source": [
    "def all_rec(depth, letters, curr, verbose=False):\n",
    "    if verbose:\n",
    "        print(f\"At depth {depth}, current solution: {curr}\")\n",
    "    if depth == grid_size:\n",
    "        return [result.copy()]\n",
    "    prefix = ''.join(pword[depth] for pword in curr)\n",
    "    istart = bisect.bisect_left(wordlist, prefix)\n",
    "    iend = bisect.bisect_left(wordlist, prefix[:-1]+chr(ord(prefix[-1])+1)) if prefix else len(wordlist)\n",
    "\n",
    "    solutions = []\n",
    "    for iw in range(istart,iend):\n",
    "        word = wordlist[iw]\n",
    "        letter_count = wordlist_counts[iw]\n",
    "        if letter_count <= letters:\n",
    "            if verbose:\n",
    "                print(f'Trying {word} at depth {depth}')\n",
    "            letters -= letter_count\n",
    "            curr.append(word)\n",
    "            solutions += all_rec(depth+1, letters, curr, verbose=verbose)\n",
    "            curr.pop()\n",
    "            letters += letter_count\n",
    "    return solutions"
   ]
  },
  {
   "cell_type": "code",
   "execution_count": null,
   "id": "39b7c0cc",
   "metadata": {},
   "outputs": [],
   "source": [
    "result = all_rec(0, letters.copy(), [])\n",
    "result"
   ]
  },
  {
   "cell_type": "markdown",
   "id": "9e51a2b2",
   "metadata": {},
   "source": [
    "Seems there is only 1 solution"
   ]
  },
  {
   "cell_type": "code",
   "execution_count": null,
   "id": "3671d7fe",
   "metadata": {},
   "outputs": [],
   "source": []
  }
 ],
 "metadata": {
  "kernelspec": {
   "display_name": "Python 3",
   "language": "python",
   "name": "python3"
  },
  "language_info": {
   "codemirror_mode": {
    "name": "ipython",
    "version": 3
   },
   "file_extension": ".py",
   "mimetype": "text/x-python",
   "name": "python",
   "nbconvert_exporter": "python",
   "pygments_lexer": "ipython3",
   "version": "3.11.7"
  }
 },
 "nbformat": 4,
 "nbformat_minor": 5
}
