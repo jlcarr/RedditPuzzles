{
 "cells": [
  {
   "cell_type": "markdown",
   "id": "a158d6a4",
   "metadata": {},
   "source": [
    "# Modified Hamiltonian Path Puzzle\n",
    "\n",
    "https://www.reddit.com/r/puzzles/comments/1kcgz1h/attempted_to_make_a_puzzle_trying_to_work_out_if/\n",
    "\n",
    "Posted by u/LoafObread__ they mainly wanted to know if there was a unique solution. Other users quickly found alternate solutions.\n",
    "\n",
    "This puzzle is effectively a modified/contrained Hamiltonian path problem. The constraints simply being the 2 required edges, and disallowed S pattern.\n",
    "\n",
    "I've seen the Hamiltonian path problem formulated as an SMT problem solvable by z3, so this problem should be similarly easy to model. But will it be easy to solve? And what about finding all solutions?\n",
    "\n",
    "- https://en.wikipedia.org/wiki/Hamiltonian_path\n",
    "- https://en.wikipedia.org/wiki/Hamiltonian_path_problem"
   ]
  },
  {
   "cell_type": "markdown",
   "id": "29351e0c",
   "metadata": {},
   "source": [
    "# Problem Setup\n",
    "\n",
    "z3 actually has an official example showing conversion of a Hamiltonian path problem into z3 via the Python API. Perfect! Let's adapt the code for our purposes.\n",
    "\n",
    "https://github.com/Z3Prover/z3/blob/master/examples/python/hamiltonian/hamiltonian.py"
   ]
  },
  {
   "cell_type": "code",
   "execution_count": null,
   "id": "994de1ea",
   "metadata": {},
   "outputs": [],
   "source": [
    "import z3"
   ]
  },
  {
   "cell_type": "code",
   "execution_count": null,
   "id": "f419294d",
   "metadata": {},
   "outputs": [],
   "source": [
    "size = 9"
   ]
  },
  {
   "cell_type": "markdown",
   "id": "14385f93",
   "metadata": {},
   "source": [
    "Define edges of the complete lattice grid."
   ]
  },
  {
   "cell_type": "code",
   "execution_count": null,
   "id": "a1303aab",
   "metadata": {
    "scrolled": true
   },
   "outputs": [],
   "source": [
    "edgelist = {\n",
    "    (i,j): [\n",
    "        (i+ip, j+jp) \n",
    "        for ip,jp in [(-1,0),(1,0),(0,-1),(0,1)] \n",
    "        if 0 <= i+ip < size and 0 <= j+jp < size\n",
    "    ] \n",
    "    for i in range(size) \n",
    "        for j in range(size)\n",
    "}\n",
    "#edgelist"
   ]
  },
  {
   "cell_type": "markdown",
   "id": "1c3e5cb1",
   "metadata": {},
   "source": [
    "Remove the blocked edges from the graph."
   ]
  },
  {
   "cell_type": "code",
   "execution_count": null,
   "id": "8746c591",
   "metadata": {},
   "outputs": [],
   "source": [
    "blocked = [((2,4), (3,4)), ((5,4), (6,4))]\n",
    "#blocked += [((2,2), (2,3)), ((6,5), (6,6))] # savethedonut's unique additional constraints\n",
    "\n",
    "for (k,kp) in blocked:\n",
    "    edgelist[k].remove(kp)\n",
    "    edgelist[kp].remove(k)"
   ]
  },
  {
   "cell_type": "markdown",
   "id": "20899487",
   "metadata": {},
   "source": [
    "Define the solver and the variables: integers for each node representing its position on the Hamiltonian path."
   ]
  },
  {
   "cell_type": "code",
   "execution_count": null,
   "id": "9b423ca2",
   "metadata": {},
   "outputs": [],
   "source": [
    "solver = z3.Solver()\n",
    "\n",
    "cv = {(i,j): z3.Int(f'cv_{i}_{j}') for i,j in edgelist.keys()}"
   ]
  },
  {
   "cell_type": "markdown",
   "id": "c47588a9",
   "metadata": {},
   "source": [
    "### Constraints"
   ]
  },
  {
   "cell_type": "markdown",
   "id": "39988e79",
   "metadata": {},
   "source": [
    "- Fix the start and end's value, then fill in the remaining nodes successor edges as the OR constrains."
   ]
  },
  {
   "cell_type": "code",
   "execution_count": null,
   "id": "bb7d1a42",
   "metadata": {},
   "outputs": [],
   "source": [
    "start = (0, size//2)\n",
    "end = (size-1, size//2)\n",
    "\n",
    "# fixed start and end\n",
    "solver.add(cv[start]==0)\n",
    "solver.add(cv[end] == size*size-1)\n",
    "\n",
    "# continuous path\n",
    "for k,v in edgelist.items():\n",
    "    if k == end:\n",
    "        continue\n",
    "    solver.add(z3.Or([cv[kv]==cv[k]+1 for kv in v]))"
   ]
  },
  {
   "cell_type": "markdown",
   "id": "370f147d",
   "metadata": {},
   "source": [
    "- We have 2 edges that must be used, so add those mandatory constraints. Remember either direction is valid"
   ]
  },
  {
   "cell_type": "code",
   "execution_count": null,
   "id": "75cbc742",
   "metadata": {},
   "outputs": [],
   "source": [
    "# required\n",
    "required = [((4,0), (4,1)), ((4,7), (4,8))]\n",
    "#required += [((1,4), (1,5)), ((3,3), (3,4)), ((5,4), (5,5)), ((7,3), (7,4))] # savethedonut's unique additional constraints\n",
    "\n",
    "for (k,kp) in required:\n",
    "    solver.add(z3.Or([cv[kp]==cv[k]+1, cv[k]==cv[kp]+1]))\n",
    "    #print(z3.Or([cv[kp]==cv[k]+1, cv[k]==cv[kp]+1]))"
   ]
  },
  {
   "cell_type": "markdown",
   "id": "60442c08",
   "metadata": {},
   "source": [
    "- Add in the rotational symmetry constraint"
   ]
  },
  {
   "cell_type": "code",
   "execution_count": null,
   "id": "dab0458d",
   "metadata": {},
   "outputs": [],
   "source": [
    "# rotational symmetry\n",
    "for (i,j),v in edgelist.items():\n",
    "    for (ip,jp) in v:\n",
    "        #print((cv[(ip,jp)]==cv[(i,j)]+1) == (cv[(size-1-ip,size-1-jp)]==cv[(size-1-i,size-1-j)]+1))\n",
    "        solver.add((cv[(ip,jp)]==cv[(i,j)]+1) == (cv[(size-1-ip,size-1-jp)]+1==cv[(size-1-i,size-1-j)]))"
   ]
  },
  {
   "cell_type": "markdown",
   "id": "6aba4d09",
   "metadata": {},
   "source": [
    "- Add the no 3x3 S shape constraint"
   ]
  },
  {
   "cell_type": "code",
   "execution_count": null,
   "id": "be524a36",
   "metadata": {},
   "outputs": [],
   "source": [
    "# no S\n",
    "ips = [(1,-1), (1,0), (1,1), (0,1), (0,0), (0,-1), (-1,-1), (-1,0), (-1,1)]\n",
    "\n",
    "def rot90(coords):\n",
    "    return [(j, i) for i,j in coords]\n",
    "\n",
    "def mirror(coords):\n",
    "    return [(i, -j) for i,j in coords]\n",
    "\n",
    "for (i,j) in edgelist.keys():\n",
    "    if not all( 0<= i+ip < size and 0 <= j+jp < size for ip,jp in ips):\n",
    "        continue\n",
    "    for subpath_unt in [ips, mirror(ips), rot90(ips), mirror(rot90(ips))]:\n",
    "        for subpath in [subpath_unt, subpath_unt[::-1]]:\n",
    "            #print(z3.Or([\n",
    "            #    cv[(i+ipp, j+jpp)] != cv[(i+ip, j+jp)]+1 \n",
    "            #    for (ip,jp),(ipp,jpp) in zip(subpath[:-1],subpath[1:])]\n",
    "            #))\n",
    "            solver.add(z3.Or([\n",
    "                cv[(i+ipp, j+jpp)] != cv[(i+ip, j+jp)]+1 \n",
    "                for (ip,jp),(ipp,jpp) in zip(subpath[:-1],subpath[1:])]\n",
    "            ))"
   ]
  },
  {
   "cell_type": "markdown",
   "id": "473028a3",
   "metadata": {},
   "source": [
    "- Add no 4 in a row constraint"
   ]
  },
  {
   "cell_type": "code",
   "execution_count": null,
   "id": "05cdc017",
   "metadata": {},
   "outputs": [],
   "source": [
    "ips = [(0, jp) for jp in range(4)]\n",
    "\n",
    "for (i,j) in edgelist.keys():\n",
    "    for subpath_unt in [ips, mirror(ips), rot90(ips), rot90(mirror(ips))]:\n",
    "        for subpath in [subpath_unt, subpath_unt[::-1]]:\n",
    "            if not all( 0<= i+ip < size and 0 <= j+jp < size for ip,jp in subpath):\n",
    "                continue\n",
    "            #print(z3.Or([\n",
    "            #    cv[(i+ipp, j+jpp)] != cv[(i+ip, j+jp)]+1 \n",
    "            #    for (ip,jp),(ipp,jpp) in zip(subpath[:-1],subpath[1:])]\n",
    "            #))\n",
    "            solver.add(z3.Or([\n",
    "                cv[(i+ipp, j+jpp)] != cv[(i+ip, j+jp)]+1 \n",
    "                for (ip,jp),(ipp,jpp) in zip(subpath[:-1],subpath[1:])]\n",
    "            ))"
   ]
  },
  {
   "cell_type": "markdown",
   "id": "9aeae3c1",
   "metadata": {},
   "source": [
    "## Solving"
   ]
  },
  {
   "cell_type": "markdown",
   "id": "464e85a6",
   "metadata": {},
   "source": [
    "Perform the solve"
   ]
  },
  {
   "cell_type": "code",
   "execution_count": null,
   "id": "13ba84c1",
   "metadata": {},
   "outputs": [],
   "source": [
    "print(solver.check())"
   ]
  },
  {
   "cell_type": "code",
   "execution_count": null,
   "id": "4d094f4e",
   "metadata": {
    "scrolled": true
   },
   "outputs": [],
   "source": [
    "#print(solver.model())"
   ]
  },
  {
   "cell_type": "markdown",
   "id": "9a6d7048",
   "metadata": {},
   "source": [
    "Extract the path from the solution"
   ]
  },
  {
   "cell_type": "code",
   "execution_count": null,
   "id": "c1f5530c",
   "metadata": {},
   "outputs": [],
   "source": [
    "def extract_path(model):\n",
    "    path = [None] * (size * size)\n",
    "    for k,var in cv.items():\n",
    "        path[model[var].as_long()] = k\n",
    "    return path"
   ]
  },
  {
   "cell_type": "code",
   "execution_count": null,
   "id": "3ede4972",
   "metadata": {
    "scrolled": true
   },
   "outputs": [],
   "source": [
    "model = solver.model()\n",
    "path = extract_path(model)\n",
    "path"
   ]
  },
  {
   "cell_type": "markdown",
   "id": "feee21d6",
   "metadata": {},
   "source": [
    "### Find all solutions"
   ]
  },
  {
   "cell_type": "code",
   "execution_count": null,
   "id": "87d3419e",
   "metadata": {
    "scrolled": true
   },
   "outputs": [],
   "source": [
    "solutions = []\n",
    "while solver.check() == z3.sat:\n",
    "    model = solver.model()\n",
    "    solutions.append(model)\n",
    "    print(f\"Solution {len(solutions)}\")\n",
    "    solver.add(z3.Or([var != model[var] for var in cv.values()]))"
   ]
  },
  {
   "cell_type": "code",
   "execution_count": null,
   "id": "5e650d11",
   "metadata": {},
   "outputs": [],
   "source": [
    "len(solutions)"
   ]
  },
  {
   "cell_type": "code",
   "execution_count": null,
   "id": "09d003b2",
   "metadata": {},
   "outputs": [],
   "source": [
    "model = solutions[0]\n",
    "path = extract_path(model)"
   ]
  },
  {
   "cell_type": "markdown",
   "id": "6acfff61",
   "metadata": {},
   "source": [
    "## Visualization"
   ]
  },
  {
   "cell_type": "code",
   "execution_count": null,
   "id": "55e1d970",
   "metadata": {},
   "outputs": [],
   "source": [
    "import networkx as nx"
   ]
  },
  {
   "cell_type": "code",
   "execution_count": null,
   "id": "50b60235",
   "metadata": {},
   "outputs": [],
   "source": [
    "import matplotlib.pyplot as plt"
   ]
  },
  {
   "cell_type": "code",
   "execution_count": null,
   "id": "500e0b3d",
   "metadata": {},
   "outputs": [],
   "source": [
    "# Construct the graph\n",
    "G = nx.Graph()\n",
    "G.add_nodes_from(edgelist.keys())\n",
    "\n",
    "#for k,v in edgelist.items():\n",
    "#    for kv in v:\n",
    "#        G.add_edge(k, kv)\n",
    "\n",
    "for k,kp in zip(path[:-1], path[1:]):\n",
    "    G.add_edge(k, kp)\n",
    "\n",
    "#for k,kp in required:\n",
    "#    G.add_edge(k, kp)\n",
    "\n",
    "# positions \n",
    "pos_dict = {k: tuple(reversed(k)) for k in edgelist.keys()}"
   ]
  },
  {
   "cell_type": "code",
   "execution_count": null,
   "id": "e82241c1",
   "metadata": {},
   "outputs": [],
   "source": [
    "# Draw the graph\n",
    "#nx.draw(G, pos=pos_dict, with_labels=True, node_size=500, node_color='lightblue', font_size=10, edge_color='blue')\n",
    "\n",
    "nx.draw(G, pos=pos_dict, node_size=50, node_color='black', edge_color='blue')\n",
    "\n",
    "for ((i,j),(ip,jp)) in blocked:\n",
    "    plt.plot(\n",
    "        [(j+jp-(j==jp))/2, (j+jp+(j==jp))/2],\n",
    "        [(i+ip-(i==ip))/2, (i+ip+(i==ip))/2], \n",
    "    c='r')\n",
    "    \n",
    "plt.gca().set_aspect('equal')\n",
    "#plt.savefig(f'ModifiedHamiltonianPath_Unqiue_Solution_puzzle_eg.png')\n",
    "plt.show()"
   ]
  },
  {
   "cell_type": "markdown",
   "id": "ae023722",
   "metadata": {},
   "source": [
    "### Graph all solutions"
   ]
  },
  {
   "cell_type": "code",
   "execution_count": null,
   "id": "411bb1bf",
   "metadata": {},
   "outputs": [],
   "source": [
    "for i_sol,model in enumerate(solutions):\n",
    "    path = extract_path(model)\n",
    "    #print(path)\n",
    "    \n",
    "    G = nx.Graph()\n",
    "    G.add_nodes_from(edgelist.keys())\n",
    "\n",
    "    for k,kp in zip(path[:-1], path[1:]):\n",
    "        G.add_edge(k, kp)\n",
    "\n",
    "    pos_dict = {k: tuple(reversed(k)) for k in edgelist.keys()}\n",
    "    \n",
    "    plt.figure()\n",
    "    \n",
    "    nx.draw(G, pos=pos_dict, node_size=50, node_color='black', edge_color='blue')\n",
    "\n",
    "    for ((i,j),(ip,jp)) in blocked:\n",
    "        plt.plot(\n",
    "            [(j+jp-(j==jp))/2, (j+jp+(j==jp))/2],\n",
    "            [(i+ip-(i==ip))/2, (i+ip+(i==ip))/2], \n",
    "        c='r')\n",
    "\n",
    "    plt.gca().set_aspect('equal')\n",
    "    #plt.savefig(f'ModifiedHamiltonianPath_Solution_{i_sol+1}.png')\n",
    "plt.show()"
   ]
  },
  {
   "cell_type": "markdown",
   "id": "5e0113e9",
   "metadata": {},
   "source": [
    "## Constraining to uniqueness"
   ]
  },
  {
   "cell_type": "markdown",
   "id": "4b575711",
   "metadata": {},
   "source": [
    "What is the minimum number of additional constraints required for uniqueness?"
   ]
  },
  {
   "cell_type": "code",
   "execution_count": null,
   "id": "f1542c0d",
   "metadata": {},
   "outputs": [],
   "source": [
    "paths = list(map(extract_path, solutions))"
   ]
  },
  {
   "cell_type": "code",
   "execution_count": null,
   "id": "7b645830",
   "metadata": {},
   "outputs": [],
   "source": [
    "paths_edges = [list(zip(path[:-1],path[1:])) for path in paths]"
   ]
  },
  {
   "cell_type": "code",
   "execution_count": null,
   "id": "e67f8274",
   "metadata": {},
   "outputs": [],
   "source": [
    "# Any edges unique to the solution?\n",
    "op_solution = 13\n",
    "any_other_shared = set([edge for ipath, path in enumerate(paths_edges) for edge in path if ipath != op_solution])\n",
    "unique_edges = set(paths_edges[op_solution]) - any_other_shared\n",
    "unique_edges"
   ]
  },
  {
   "cell_type": "code",
   "execution_count": null,
   "id": "9497f1ba",
   "metadata": {},
   "outputs": [],
   "source": [
    "import functools\n",
    "import operator"
   ]
  },
  {
   "cell_type": "code",
   "execution_count": null,
   "id": "39d71a2f",
   "metadata": {},
   "outputs": [],
   "source": [
    "# Any edges only not present in the solution?\n",
    "all_other_shared = set(functools.reduce(operator.and_, [set(path) for ipath, path in enumerate(paths_edges) if ipath != op_solution])) \n",
    "all_other_shared - set(paths_edges[op_solution])"
   ]
  },
  {
   "cell_type": "markdown",
   "id": "4ddce9de",
   "metadata": {},
   "source": [
    "### Combinatorial search"
   ]
  },
  {
   "cell_type": "code",
   "execution_count": null,
   "id": "5dae0fed",
   "metadata": {},
   "outputs": [],
   "source": [
    "def norm_edge(edge):\n",
    "    return tuple(sorted(edge))"
   ]
  },
  {
   "cell_type": "code",
   "execution_count": null,
   "id": "ec8bfbdd",
   "metadata": {},
   "outputs": [],
   "source": [
    "all_undirected_edges = set([norm_edge((k,kv)) for k,v in edgelist.items() for kv in v]) # undirected\n",
    "\n",
    "paths_edges_sets = [set([norm_edge(edge) for edge in path]) for path in paths_edges]"
   ]
  },
  {
   "cell_type": "code",
   "execution_count": null,
   "id": "079a1a33",
   "metadata": {},
   "outputs": [],
   "source": [
    "import itertools"
   ]
  },
  {
   "cell_type": "code",
   "execution_count": null,
   "id": "b77eb540",
   "metadata": {},
   "outputs": [],
   "source": [
    "def I(edge):\n",
    "    return norm_edge(edge)\n",
    "def mirrorH(edge):\n",
    "    (i,j),(ip,jp) = edge\n",
    "    return norm_edge(((i,size-1-j),(ip,size-1-jp)))\n",
    "def mirrorV(edge):\n",
    "    (i,j),(ip,jp) = edge\n",
    "    return norm_edge(((size-1-i,j),(size-1-ip,jp)))\n",
    "def rot180(edge):\n",
    "    return mirrorH(mirrorV(edge))\n",
    "\n",
    "symmetries = [I, mirrorH, mirrorV, rot180]\n",
    "#symmetries = [I, rot180]"
   ]
  },
  {
   "cell_type": "markdown",
   "id": "b0b3b2c2",
   "metadata": {},
   "source": [
    "### Direct search"
   ]
  },
  {
   "cell_type": "code",
   "execution_count": null,
   "id": "bb92379e",
   "metadata": {},
   "outputs": [],
   "source": [
    "paths_edges_sets = [set([norm_edge(edge) for edge in path]) for path in paths_edges]\n",
    "min_edge_sets = set()\n",
    "\n",
    "for n_add in range(len(all_undirected_edges) - len(paths_edges[op_solution])): # there is a must simpler expr in `size`\n",
    "    print(n_add)\n",
    "    for edges in itertools.combinations(all_undirected_edges, n_add):\n",
    "        edges = set(edges)\n",
    "        # ensure symmetry of constraints\n",
    "        #if any([f(edge) not in edges for edge in edges for f in symmetries]):\n",
    "        #    continue\n",
    "        # add in symmetry manually\n",
    "        edges = set([f(edge) for edge in edges for f in symmetries])\n",
    "        edges = tuple(sorted(edges))\n",
    "        \n",
    "        # ensure symm edges are same type\n",
    "        if any([(f(edge) in paths_edges_sets[op_solution]) != (edge in paths_edges_sets[op_solution]) for edge in edges for f in symmetries]):\n",
    "            continue\n",
    "        \n",
    "        filter_set = set(range(len(solutions)))\n",
    "        \n",
    "        for edge in edges:\n",
    "            for isol in list(filter_set):\n",
    "                if (edge in paths_edges_sets[op_solution]) != (edge in paths_edges_sets[isol]): # must mismatch\n",
    "                    filter_set.remove(isol)\n",
    "        if len(filter_set) == 1 and filter_set.pop() == op_solution:\n",
    "            min_edge_sets.add(edges)\n",
    "    if min_edge_sets:\n",
    "        break\n",
    "min_edge_sets"
   ]
  },
  {
   "cell_type": "markdown",
   "id": "883fcd3d",
   "metadata": {},
   "source": [
    "### Symmetry set search"
   ]
  },
  {
   "cell_type": "code",
   "execution_count": null,
   "id": "3e25a83b",
   "metadata": {
    "scrolled": true
   },
   "outputs": [],
   "source": [
    "def gen_sym_sets(op_solution):\n",
    "    sym_sets = set([\n",
    "        tuple(sorted(set([f(edge) for f in symmetries])))\n",
    "        for edge in all_undirected_edges\n",
    "        if all([\n",
    "            (f(edge) in paths_edges_sets[op_solution]) == (edge in paths_edges_sets[op_solution])\n",
    "            for f in symmetries\n",
    "        ] )\n",
    "    ])\n",
    "    return sorted(sym_sets, key=len)\n",
    "sym_sets = gen_sym_sets(op_solution)\n",
    "sym_sets"
   ]
  },
  {
   "cell_type": "code",
   "execution_count": null,
   "id": "08e8a11f",
   "metadata": {},
   "outputs": [],
   "source": [
    "len(sym_sets)"
   ]
  },
  {
   "cell_type": "code",
   "execution_count": null,
   "id": "3ef2150a",
   "metadata": {},
   "outputs": [],
   "source": [
    "# sym set search\n",
    "def sym_set_search(sym_sets, op_solution):\n",
    "    min_edge_sets = []\n",
    "    for n_add in range(1+len(sym_sets)): # there is a must simpler expr in `size`\n",
    "        print(f\"Adding {n_add} symmetric constraint sets\")\n",
    "        for sym_set_picks in itertools.combinations(sym_sets, n_add):\n",
    "            filter_set = set(range(len(solutions)))\n",
    "            for sym_set in sym_set_picks:\n",
    "                for edge in sym_set:\n",
    "                    for isol in list(filter_set):\n",
    "                        if (edge in paths_edges_sets[isol]) != (edge in paths_edges_sets[op_solution]): # must mismatch\n",
    "                            filter_set.remove(isol)\n",
    "            if len(filter_set) == 1 and filter_set.pop() == op_solution:\n",
    "                min_edge_sets.append(set(edge for sym_set in sym_set_picks for edge in sym_set))\n",
    "        if min_edge_sets:\n",
    "            break\n",
    "    return min_edge_sets\n",
    "min_edge_sets = sym_set_search(sym_sets, op_solution)\n",
    "min_edge_sets"
   ]
  },
  {
   "cell_type": "code",
   "execution_count": null,
   "id": "c83239c6",
   "metadata": {},
   "outputs": [],
   "source": [
    "for i in range(len(solutions)):\n",
    "    sym_sets = gen_sym_sets(i)\n",
    "    print(sym_set_search(sym_sets, i))"
   ]
  },
  {
   "cell_type": "markdown",
   "id": "77a6e68d",
   "metadata": {},
   "source": [
    "### Analysis of new constraint edge sets"
   ]
  },
  {
   "cell_type": "code",
   "execution_count": null,
   "id": "0afd6118",
   "metadata": {},
   "outputs": [],
   "source": [
    "len(min_edge_sets)"
   ]
  },
  {
   "cell_type": "code",
   "execution_count": null,
   "id": "00347545",
   "metadata": {},
   "outputs": [],
   "source": [
    "set([len(e) for e in min_edge_sets])"
   ]
  },
  {
   "cell_type": "code",
   "execution_count": null,
   "id": "8f91fdea",
   "metadata": {},
   "outputs": [],
   "source": [
    "min_edge_sets_labelled = [\n",
    "    {\n",
    "        'blocked': [edge for edge in edges if edge not in paths_edges_sets[op_solution]], \n",
    "        'required': [edge for edge in edges if edge in paths_edges_sets[op_solution]]\n",
    "    } \n",
    "    for edges in min_edge_sets\n",
    "]\n",
    "min_edge_sets_labelled"
   ]
  },
  {
   "cell_type": "code",
   "execution_count": null,
   "id": "22a8dc64",
   "metadata": {},
   "outputs": [],
   "source": [
    "# only using required edges\n",
    "len([e for e in min_edge_sets_labelled if not e['blocked']])"
   ]
  },
  {
   "cell_type": "code",
   "execution_count": null,
   "id": "88189d2c",
   "metadata": {},
   "outputs": [],
   "source": [
    "# only using blocked edges\n",
    "len([e for e in min_edge_sets_labelled if not e['required']])"
   ]
  },
  {
   "cell_type": "code",
   "execution_count": null,
   "id": "ca93870e",
   "metadata": {},
   "outputs": [],
   "source": [
    "# only using both\n",
    "len([e for e in min_edge_sets_labelled if e['required'] and e['blocked']])"
   ]
  },
  {
   "cell_type": "code",
   "execution_count": null,
   "id": "ca925afb",
   "metadata": {},
   "outputs": [],
   "source": [
    "# only using both equally\n",
    "len([e for e in min_edge_sets_labelled if len(e['required']) == len(e['blocked'])])"
   ]
  },
  {
   "cell_type": "code",
   "execution_count": null,
   "id": "8e699552",
   "metadata": {},
   "outputs": [],
   "source": [
    "blocked = [((2,4), (3,4)), ((5,4), (6,4))] + [e for e in min_edge_sets_labelled if not e['required']][0]['blocked']"
   ]
  },
  {
   "cell_type": "code",
   "execution_count": null,
   "id": "b986d820",
   "metadata": {},
   "outputs": [],
   "source": [
    "[e for e in min_edge_sets_labelled if len(e['required']) == len(e['blocked'])][0]['blocked']"
   ]
  },
  {
   "cell_type": "code",
   "execution_count": null,
   "id": "7ea9ad4b",
   "metadata": {},
   "outputs": [],
   "source": []
  }
 ],
 "metadata": {
  "kernelspec": {
   "display_name": "Python 3",
   "language": "python",
   "name": "python3"
  },
  "language_info": {
   "codemirror_mode": {
    "name": "ipython",
    "version": 3
   },
   "file_extension": ".py",
   "mimetype": "text/x-python",
   "name": "python",
   "nbconvert_exporter": "python",
   "pygments_lexer": "ipython3",
   "version": "3.11.7"
  }
 },
 "nbformat": 4,
 "nbformat_minor": 5
}
