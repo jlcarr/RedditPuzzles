{
 "cells": [
  {
   "cell_type": "markdown",
   "id": "64caffd4",
   "metadata": {},
   "source": [
    "# Modified Hamiltonian Path Puzzle\n",
    "\n",
    "https://www.reddit.com/r/puzzles/comments/1kcgz1h/attempted_to_make_a_puzzle_trying_to_work_out_if/\n",
    "\n",
    "Posted by u/LoafObread__ they mainly wanted to know if there was a unique solution. Other users quickly found alternate solutions.\n",
    "\n",
    "This puzzle is effectively a modified/contrained Hamiltonian path problem. The constraints simply being the 2 required edges, and disallowed S pattern.\n",
    "\n",
    "I've seen the Hamiltonian path problem formulated as an SMT problem solvable by z3, so this problem should be similarly easy to model. But will it be easy to solve? And what about finding all solutions?\n",
    "\n",
    "- https://en.wikipedia.org/wiki/Hamiltonian_path\n",
    "- https://en.wikipedia.org/wiki/Hamiltonian_path_problem"
   ]
  },
  {
   "cell_type": "markdown",
   "id": "be5ce5f2",
   "metadata": {},
   "source": [
    "# Problem Setup\n",
    "\n",
    "z3 actually has an official example showing conversion of a Hamiltonian path problem into z3 via the Python API. Perfect! Let's adapt the code for our purposes.\n",
    "\n",
    "https://github.com/Z3Prover/z3/blob/master/examples/python/hamiltonian/hamiltonian.py"
   ]
  },
  {
   "cell_type": "code",
   "execution_count": null,
   "id": "ab9bc47f",
   "metadata": {},
   "outputs": [],
   "source": [
    "import z3"
   ]
  },
  {
   "cell_type": "code",
   "execution_count": null,
   "id": "480f757c",
   "metadata": {},
   "outputs": [],
   "source": [
    "size = 9"
   ]
  },
  {
   "cell_type": "markdown",
   "id": "8f85c34a",
   "metadata": {},
   "source": [
    "Define edges of the complete lattice grid."
   ]
  },
  {
   "cell_type": "code",
   "execution_count": null,
   "id": "f5735605",
   "metadata": {
    "scrolled": true
   },
   "outputs": [],
   "source": [
    "edgelist = {\n",
    "    (i,j): [\n",
    "        (i+ip, j+jp) \n",
    "        for ip,jp in [(-1,0),(1,0),(0,-1),(0,1)] \n",
    "        if 0 <= i+ip < size and 0 <= j+jp < size\n",
    "    ] \n",
    "    for i in range(size) \n",
    "        for j in range(size)\n",
    "}\n",
    "#edgelist"
   ]
  },
  {
   "cell_type": "markdown",
   "id": "faf64c73",
   "metadata": {},
   "source": [
    "Remove the blocked edges from the graph."
   ]
  },
  {
   "cell_type": "code",
   "execution_count": null,
   "id": "dd5cd9bc",
   "metadata": {},
   "outputs": [],
   "source": [
    "blocked = [((2,4), (3,4)), ((5,4), (6,4))]\n",
    "\n",
    "for (k,kp) in blocked:\n",
    "    edgelist[k].remove(kp)\n",
    "    edgelist[kp].remove(k)"
   ]
  },
  {
   "cell_type": "markdown",
   "id": "ac34ea97",
   "metadata": {},
   "source": [
    "Define the solver and the variables: integers for each node representing its position on the Hamiltonian path."
   ]
  },
  {
   "cell_type": "code",
   "execution_count": null,
   "id": "dbae533b",
   "metadata": {},
   "outputs": [],
   "source": [
    "solver = z3.Solver()\n",
    "\n",
    "cv = {(i,j): z3.Int(f'cv_{i}_{j}') for i,j in edgelist.keys()}"
   ]
  },
  {
   "cell_type": "markdown",
   "id": "a8c5a873",
   "metadata": {},
   "source": [
    "### Constraints"
   ]
  },
  {
   "cell_type": "markdown",
   "id": "ab514d2c",
   "metadata": {},
   "source": [
    "- Fix the start and end's value, then fill in the remaining nodes successor edges as the OR constrains."
   ]
  },
  {
   "cell_type": "code",
   "execution_count": null,
   "id": "1ddb2afa",
   "metadata": {},
   "outputs": [],
   "source": [
    "start = (0, size//2)\n",
    "end = (size-1, size//2)\n",
    "\n",
    "# fixed start and end\n",
    "solver.add(cv[start]==0)\n",
    "solver.add(cv[end] == size*size-1)\n",
    "\n",
    "# continuous path\n",
    "for k,v in edgelist.items():\n",
    "    if k == end:\n",
    "        continue\n",
    "    solver.add(z3.Or([cv[kv]==cv[k]+1 for kv in v]))"
   ]
  },
  {
   "cell_type": "markdown",
   "id": "70c54e14",
   "metadata": {},
   "source": [
    "- We have 2 edges that must be used, so add those mandatory constraints. Remember either direction is valid"
   ]
  },
  {
   "cell_type": "code",
   "execution_count": null,
   "id": "afd17983",
   "metadata": {},
   "outputs": [],
   "source": [
    "# required\n",
    "required = [((4,0), (4,1)), ((4,7), (4,8))]\n",
    "\n",
    "for (k,kp) in required:\n",
    "    solver.add(z3.Or([cv[kp]==cv[k]+1, cv[k]==cv[kp]+1]))\n",
    "    #print(z3.Or([cv[kp]==cv[k]+1, cv[k]==cv[kp]+1]))"
   ]
  },
  {
   "cell_type": "markdown",
   "id": "1b3af944",
   "metadata": {},
   "source": [
    "- Add in the rotational symmetry constraint"
   ]
  },
  {
   "cell_type": "code",
   "execution_count": null,
   "id": "27fa1c33",
   "metadata": {},
   "outputs": [],
   "source": [
    "# rotational symmetry\n",
    "for (i,j),v in edgelist.items():\n",
    "    for (ip,jp) in v:\n",
    "        #print((cv[(ip,jp)]==cv[(i,j)]+1) == (cv[(size-1-ip,size-1-jp)]==cv[(size-1-i,size-1-j)]+1))\n",
    "        solver.add((cv[(ip,jp)]==cv[(i,j)]+1) == (cv[(size-1-ip,size-1-jp)]+1==cv[(size-1-i,size-1-j)]))"
   ]
  },
  {
   "cell_type": "markdown",
   "id": "99c437c8",
   "metadata": {},
   "source": [
    "- Add the no 3x3 S shape constraint"
   ]
  },
  {
   "cell_type": "code",
   "execution_count": null,
   "id": "d9aaeee5",
   "metadata": {},
   "outputs": [],
   "source": [
    "# no S\n",
    "ips = [(1,-1), (1,0), (1,1), (0,1), (0,0), (0,-1), (-1,-1), (-1,0), (-1,1)]\n",
    "\n",
    "def rot90(coords):\n",
    "    return [(j, i) for i,j in coords]\n",
    "\n",
    "def mirror(coords):\n",
    "    return [(i, -j) for i,j in coords]\n",
    "\n",
    "for (i,j) in edgelist.keys():\n",
    "    if not all( 0<= i+ip < size and 0 <= j+jp < size for ip,jp in ips):\n",
    "        continue\n",
    "    for subpath_unt in [ips, mirror(ips), rot90(ips), mirror(rot90(ips))]:\n",
    "        for subpath in [subpath_unt, subpath_unt[::-1]]:\n",
    "            #print(z3.Or([\n",
    "            #    cv[(i+ipp, j+jpp)] != cv[(i+ip, j+jp)]+1 \n",
    "            #    for (ip,jp),(ipp,jpp) in zip(subpath[:-1],subpath[1:])]\n",
    "            #))\n",
    "            solver.add(z3.Or([\n",
    "                cv[(i+ipp, j+jpp)] != cv[(i+ip, j+jp)]+1 \n",
    "                for (ip,jp),(ipp,jpp) in zip(subpath[:-1],subpath[1:])]\n",
    "            ))"
   ]
  },
  {
   "cell_type": "markdown",
   "id": "4d2271d1",
   "metadata": {},
   "source": [
    "- Add no 4 in a row constraint"
   ]
  },
  {
   "cell_type": "code",
   "execution_count": null,
   "id": "e3ec8c6a",
   "metadata": {},
   "outputs": [],
   "source": [
    "ips = [(0, jp) for jp in range(4)]\n",
    "\n",
    "for (i,j) in edgelist.keys():\n",
    "    for subpath_unt in [ips, mirror(ips), rot90(ips), rot90(mirror(ips))]:\n",
    "        for subpath in [subpath_unt, subpath_unt[::-1]]:\n",
    "            if not all( 0<= i+ip < size and 0 <= j+jp < size for ip,jp in subpath):\n",
    "                continue\n",
    "            #print(z3.Or([\n",
    "            #    cv[(i+ipp, j+jpp)] != cv[(i+ip, j+jp)]+1 \n",
    "            #    for (ip,jp),(ipp,jpp) in zip(subpath[:-1],subpath[1:])]\n",
    "            #))\n",
    "            solver.add(z3.Or([\n",
    "                cv[(i+ipp, j+jpp)] != cv[(i+ip, j+jp)]+1 \n",
    "                for (ip,jp),(ipp,jpp) in zip(subpath[:-1],subpath[1:])]\n",
    "            ))"
   ]
  },
  {
   "cell_type": "markdown",
   "id": "b2fba977",
   "metadata": {},
   "source": [
    "## Solving"
   ]
  },
  {
   "cell_type": "markdown",
   "id": "6f39c912",
   "metadata": {},
   "source": [
    "Perform the solve"
   ]
  },
  {
   "cell_type": "code",
   "execution_count": null,
   "id": "6efc4a31",
   "metadata": {},
   "outputs": [],
   "source": [
    "print(solver.check())"
   ]
  },
  {
   "cell_type": "code",
   "execution_count": null,
   "id": "f92370b7",
   "metadata": {
    "scrolled": true
   },
   "outputs": [],
   "source": [
    "#print(solver.model())"
   ]
  },
  {
   "cell_type": "markdown",
   "id": "65d52028",
   "metadata": {},
   "source": [
    "Extract the path from the solution"
   ]
  },
  {
   "cell_type": "code",
   "execution_count": null,
   "id": "4945afea",
   "metadata": {},
   "outputs": [],
   "source": [
    "def extract_path(model):\n",
    "    path = [None] * (size * size)\n",
    "    for k,var in cv.items():\n",
    "        path[model[var].as_long()] = k\n",
    "    return path"
   ]
  },
  {
   "cell_type": "code",
   "execution_count": null,
   "id": "7c8a0ee7",
   "metadata": {
    "scrolled": true
   },
   "outputs": [],
   "source": [
    "model = solver.model()\n",
    "path = extract_path(model)\n",
    "path"
   ]
  },
  {
   "cell_type": "markdown",
   "id": "6b6d8911",
   "metadata": {},
   "source": [
    "### Find all solutions"
   ]
  },
  {
   "cell_type": "code",
   "execution_count": null,
   "id": "8de7cad5",
   "metadata": {
    "scrolled": true
   },
   "outputs": [],
   "source": [
    "solutions = []\n",
    "while solver.check() == z3.sat:\n",
    "    model = solver.model()\n",
    "    solutions.append(model)\n",
    "    print(f\"Solution {len(solutions)}\")\n",
    "    solver.add(z3.Or([var != model[var] for var in cv.values()]))"
   ]
  },
  {
   "cell_type": "code",
   "execution_count": null,
   "id": "e8f951d1",
   "metadata": {},
   "outputs": [],
   "source": [
    "len(solutions)"
   ]
  },
  {
   "cell_type": "markdown",
   "id": "e8b00014",
   "metadata": {},
   "source": [
    "## Visualization"
   ]
  },
  {
   "cell_type": "code",
   "execution_count": null,
   "id": "0a038b49",
   "metadata": {},
   "outputs": [],
   "source": [
    "import networkx as nx"
   ]
  },
  {
   "cell_type": "code",
   "execution_count": null,
   "id": "bae92fc8",
   "metadata": {},
   "outputs": [],
   "source": [
    "import matplotlib.pyplot as plt"
   ]
  },
  {
   "cell_type": "code",
   "execution_count": null,
   "id": "4bfbb140",
   "metadata": {},
   "outputs": [],
   "source": [
    "# Construct the graph\n",
    "G = nx.Graph()\n",
    "G.add_nodes_from(edgelist.keys())\n",
    "\n",
    "#for k,v in edgelist.items():\n",
    "#    for kv in v:\n",
    "#        G.add_edge(k, kv)\n",
    "\n",
    "for k,kp in zip(path[:-1], path[1:]):\n",
    "    G.add_edge(k, kp)\n",
    "\n",
    "# positions \n",
    "pos_dict = {k: tuple(reversed(k)) for k in edgelist.keys()}"
   ]
  },
  {
   "cell_type": "code",
   "execution_count": null,
   "id": "af337e56",
   "metadata": {},
   "outputs": [],
   "source": [
    "# Draw the graph\n",
    "#nx.draw(G, pos=pos_dict, with_labels=True, node_size=500, node_color='lightblue', font_size=10, font_weight='bold')\n",
    "\n",
    "nx.draw(G, pos=pos_dict, node_size=50, node_color='black', edge_color='blue')\n",
    "\n",
    "for ((i,j),(ip,jp)) in blocked:\n",
    "    plt.plot(\n",
    "        [(j+jp-(j==jp))/2, (j+jp+(j==jp))/2],\n",
    "        [(i+ip-(i==ip))/2, (i+ip+(i==ip))/2], \n",
    "    c='r')\n",
    "    \n",
    "plt.gca().set_aspect('equal')\n",
    "plt.show()"
   ]
  },
  {
   "cell_type": "markdown",
   "id": "31ec0340",
   "metadata": {},
   "source": [
    "### Graph all solutions"
   ]
  },
  {
   "cell_type": "code",
   "execution_count": null,
   "id": "d9312021",
   "metadata": {},
   "outputs": [],
   "source": [
    "for i_sol,model in enumerate(solutions):\n",
    "    path = extract_path(model)\n",
    "    #print(path)\n",
    "    \n",
    "    G = nx.Graph()\n",
    "    G.add_nodes_from(edgelist.keys())\n",
    "\n",
    "    for k,kp in zip(path[:-1], path[1:]):\n",
    "        G.add_edge(k, kp)\n",
    "\n",
    "    pos_dict = {k: tuple(reversed(k)) for k in edgelist.keys()}\n",
    "    \n",
    "    plt.figure()\n",
    "    \n",
    "    nx.draw(G, pos=pos_dict, node_size=50, node_color='black', edge_color='blue')\n",
    "\n",
    "    for ((i,j),(ip,jp)) in blocked:\n",
    "        plt.plot(\n",
    "            [(j+jp-(j==jp))/2, (j+jp+(j==jp))/2],\n",
    "            [(i+ip-(i==ip))/2, (i+ip+(i==ip))/2], \n",
    "        c='r')\n",
    "\n",
    "    plt.gca().set_aspect('equal')\n",
    "    plt.savefig(f'ModifiedHamiltonanPath_Solution_{i_sol+1}.png')\n",
    "plt.show()"
   ]
  },
  {
   "cell_type": "code",
   "execution_count": null,
   "id": "6e2dbb55",
   "metadata": {},
   "outputs": [],
   "source": []
  }
 ],
 "metadata": {
  "kernelspec": {
   "display_name": "Python 3",
   "language": "python",
   "name": "python3"
  },
  "language_info": {
   "codemirror_mode": {
    "name": "ipython",
    "version": 3
   },
   "file_extension": ".py",
   "mimetype": "text/x-python",
   "name": "python",
   "nbconvert_exporter": "python",
   "pygments_lexer": "ipython3",
   "version": "3.11.7"
  }
 },
 "nbformat": 4,
 "nbformat_minor": 5
}
