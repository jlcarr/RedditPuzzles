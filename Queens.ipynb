{
 "cells": [
  {
   "cell_type": "markdown",
   "id": "97438019",
   "metadata": {},
   "source": [
    "# Queens and Star Battle\n",
    "\n",
    "https://www.reddit.com/r/puzzles/comments/1nlp2rq/queens/\n",
    "\n",
    "## Introduction: Problem Definition and Computational Complexity\n",
    "\n",
    "This is a constraint satisfaction puzzle, fairly easily reducible to SAT.\n",
    "\n",
    "### 0-1 Integer Linear Constraint Satisfiability Formulation\n",
    "\n",
    "Specifically, I've set up the constraints in z3 using pseudo-boolean constraints, making it a 0-1 integer linear programming problem (BILP) in which only the constraints need to be satisfied (no optimization), and therefore one of Karp's 21 NP-Complete problems, and therefore reducible to SAT.\n",
    "\n",
    "Here are the constraints written in familiar mathematical notation:\n",
    "\n",
    "$$ x_{i,j} \\in \\mathbb{Z}_2 $$\n",
    "\n",
    "All rows must have exactly $L$ queens/stars.\n",
    "$$ \\sum_{j} x_{i,j} = L \\qquad \\forall i $$\n",
    "\n",
    "All columns must have exactly $L$ queens/stars.\n",
    "$$ \\sum_{i} x_{i,j} = L \\qquad \\forall j $$\n",
    "\n",
    "All shapes must have exactly $L$ queens/stars.\n",
    "$$ \\sum_{x_{i,j} \\in S_{k}} x_{i,j} = L \\qquad \\forall k $$\n",
    "\n",
    "All queens/stars cannot neighbor eachother.\n",
    "$$ x_{i,j} + x_{i',j'} \\leq 1 \\qquad \\forall i,j,i',j' \\colon (|i - i'| \\leq 1) \\land (|j - j'| \\leq 1) \\land \\lnot (i=i' \\land j=j')$$\n",
    "\n",
    "We must have $\\left| S \\right| = n$ (each queen, or $L$ stars, has their own color shape, but not necessarily $\\left| S_k \\right| = n$. This gives us a total of $3n + 4n(n-1) = 4n^{2}-n$ linear contraints.\n",
    "\n",
    "Where:\n",
    "- $n$ is the number of rows and columns, i.e. we have an $n \\times n$ grid.\n",
    "- $x_{i,j}$ is the boolean which is true if cell $(i,j)$ has a queen/star.\n",
    "- $L$ is the number of queens/stars in each row, column, and shape. For classic Queens $L=1$.\n",
    "- $S$ is the set of all colored shapes. Each colored shape, $S_k$, being a set of cells $x_{i,j}$.\n",
    "\n",
    "\n",
    "### Queens Reduction to SAT\n",
    "\n",
    "For the $L=1$ case, classic Queens, the polynomial time reduction to SAT for this problem is particularly easy: Each cell is a boolean and its material implication is all others in its row, column, color and adjacency are False. The largest one of these clauses could be is a puzzle in which every color has only 1 cell (where its queen is) except one which has the remainder of the board: that color will have $n^{2} - \\left( n - 1 \\right)$ cells. Thus the total SAT problem reduction is $O(n^4)$. This actually would be a pretty easy alternative formulation in z3.\n",
    "\n",
    "\n",
    "### References\n",
    "\n",
    "- https://en.wikipedia.org/wiki/Boolean_satisfiability_problem\n",
    "- https://en.wikipedia.org/wiki/Pseudo-Boolean_function\n",
    "- https://en.wikipedia.org/wiki/Integer_programming\n",
    "- https://en.wikipedia.org/wiki/Karp%27s_21_NP-complete_problems\n",
    "- https://en.wikipedia.org/wiki/Polynomial-time_reduction\n",
    "- https://en.wikipedia.org/wiki/Material_conditional"
   ]
  },
  {
   "cell_type": "markdown",
   "id": "f8b25932",
   "metadata": {},
   "source": [
    "## Tools"
   ]
  },
  {
   "cell_type": "markdown",
   "id": "ee08d628",
   "metadata": {},
   "source": [
    "### Transcription"
   ]
  },
  {
   "cell_type": "code",
   "execution_count": null,
   "id": "19ba08db",
   "metadata": {},
   "outputs": [],
   "source": [
    "from PIL import Image, ImageDraw, ImageFilter"
   ]
  },
  {
   "cell_type": "code",
   "execution_count": null,
   "id": "16a9f0f9",
   "metadata": {},
   "outputs": [],
   "source": [
    "import numpy as np"
   ]
  },
  {
   "cell_type": "code",
   "execution_count": null,
   "id": "9bd4b52c",
   "metadata": {},
   "outputs": [],
   "source": [
    "def transcribe_grid(img, n, verbose=False):\n",
    "    dx, dy = np.array(img.size) // n\n",
    "    if verbose:\n",
    "        print(f\"{n} columns, spaced {dx}\")\n",
    "        print(f\"{n} rows, spaced {dy}\")\n",
    "        timg = Image.new(img.mode, (n,n))\n",
    "        \n",
    "    # blur so as to remove texture and get a consistent mode\n",
    "    img = img.convert('RGB')\n",
    "    blured_img = img.filter(ImageFilter.BoxBlur(radius=dx//4))\n",
    "\n",
    "    cmap = dict()\n",
    "    grid = np.zeros((n,n),dtype=int)\n",
    "    for i in range(n):\n",
    "        for j in range(n):\n",
    "            cimg = img.crop((j * dx, i * dy, (j+1) * dx, (i+1) * dy))\n",
    "            # mode color\n",
    "            arr = np.array(cimg)\n",
    "            pixels = arr.reshape(-1, arr.shape[-1])\n",
    "            uniq, counts = np.unique(pixels, axis=0, return_counts=True)\n",
    "            mode_color = uniq[counts.argmax()]\n",
    "            mode_color_hex = '#'+''.join(f\"{c:02x}\" for c in mode_color)\n",
    "            \n",
    "            if mode_color_hex not in cmap:\n",
    "                cmap[mode_color_hex] = len(cmap)\n",
    "            \n",
    "            grid[i,j] = cmap[mode_color_hex]\n",
    "            \n",
    "            if verbose:\n",
    "                print(f\"Processed row {i} / {n}, column {j} / {n}: {mode_color_hex} = {cmap[mode_color_hex]}\")\n",
    "                timg.putpixel((j, i), tuple(mode_color))\n",
    "    if verbose:\n",
    "        return grid, timg\n",
    "    return grid"
   ]
  },
  {
   "cell_type": "markdown",
   "id": "de17eb52",
   "metadata": {},
   "source": [
    "### Solver Setup"
   ]
  },
  {
   "cell_type": "code",
   "execution_count": null,
   "id": "4c87ba9e",
   "metadata": {},
   "outputs": [],
   "source": [
    "import z3"
   ]
  },
  {
   "cell_type": "code",
   "execution_count": null,
   "id": "f8b49ecd",
   "metadata": {},
   "outputs": [],
   "source": [
    "def create_grid_vars(n):\n",
    "    grid_vars = []\n",
    "    for i in range(n):\n",
    "        grid_vars.append([])\n",
    "        for j in range(n):\n",
    "            grid_vars[-1].append(z3.Bool(f\"x_{i}_{j}\"))\n",
    "    return grid_vars"
   ]
  },
  {
   "cell_type": "code",
   "execution_count": null,
   "id": "e6cbdfe6",
   "metadata": {},
   "outputs": [],
   "source": [
    "def setup_solver(grid, grid_vars, l=1):\n",
    "    n = len(grid_vars)\n",
    "    solver = z3.Solver()\n",
    "    \n",
    "    # l per row\n",
    "    for i in range(n):\n",
    "        vs = [grid_vars[i][j] for j in range(n)]\n",
    "        solver.add(z3.AtMost(*vs, l))\n",
    "        solver.add(z3.AtLeast(*vs, l))\n",
    "\n",
    "    # l per col\n",
    "    for j in range(n):\n",
    "        vs = [grid_vars[i][j] for i in range(n)]\n",
    "        solver.add(z3.AtMost(*vs, l))\n",
    "        solver.add(z3.AtLeast(*vs, l))\n",
    "    \n",
    "    # no adjacent\n",
    "    #for i in range(n):\n",
    "    #    for j in range(n):\n",
    "    #        for di in [-1,0,1]:\n",
    "    #            for dj in [-1,0,1]:\n",
    "    #                if (di == 0 and dj == 0) or not (0 <= i+di < n) or not (0 <= j+dj < n):\n",
    "    #                    continue\n",
    "    #                solver.add(z3.AtMost(grid_vars[i][j], grid_vars[i+di][j+dj], 1))\n",
    "\n",
    "    # left-right\n",
    "    for i in range(n):\n",
    "        for j in range(n-1):\n",
    "            solver.add(z3.AtMost(grid_vars[i][j], grid_vars[i][j+1], 1))\n",
    "    # up-down\n",
    "    for i in range(n-1):\n",
    "        for j in range(n):\n",
    "            solver.add(z3.AtMost(grid_vars[i][j], grid_vars[i+1][j], 1))\n",
    "    # diag-down right\n",
    "    for i in range(n-1):\n",
    "        for j in range(n-1):\n",
    "            solver.add(z3.AtMost(grid_vars[i][j], grid_vars[i+1][j+1], 1))\n",
    "    # diag-down left\n",
    "    for i in range(n-1):\n",
    "        for j in range(n-1):\n",
    "            solver.add(z3.AtMost(grid_vars[i][j+1], grid_vars[i+1][j], 1))\n",
    "    \n",
    "    # l per color\n",
    "    color_sets = [[] for i in range(n)]\n",
    "    for i in range(n):\n",
    "        for j in range(n):\n",
    "            color_sets[grid[i,j]].append(grid_vars[i][j])\n",
    "    for i in range(n):\n",
    "        solver.add(z3.AtMost(*color_sets[i], l))\n",
    "        solver.add(z3.AtLeast(*color_sets[i], l))\n",
    "    \n",
    "    return solver"
   ]
  },
  {
   "cell_type": "code",
   "execution_count": null,
   "id": "a5686690",
   "metadata": {},
   "outputs": [],
   "source": [
    "def complete_solve(grid, l = 1):\n",
    "    n = grid.shape[0]\n",
    "    \n",
    "    grid_vars = create_grid_vars(n)\n",
    "    solver = setup_solver(grid, grid_vars, l = l)\n",
    "    #%%time\n",
    "    if solver.check() != z3.sat:\n",
    "        print(\"Unsolvable\")\n",
    "        return\n",
    "    \n",
    "    model = solver.model()\n",
    "    solution = np.array([[bool(model.evaluate(grid_vars[i][j])) for j in range(n)] for i in range(n)])\n",
    "    \n",
    "    return solution"
   ]
  },
  {
   "cell_type": "markdown",
   "id": "7485c6cf",
   "metadata": {},
   "source": [
    "### Visualization"
   ]
  },
  {
   "cell_type": "code",
   "execution_count": null,
   "id": "e1f2a397",
   "metadata": {},
   "outputs": [],
   "source": [
    "def draw_solution(img, solution):\n",
    "    n = solution.shape[0]\n",
    "    dx, dy = np.array(img.size) // n\n",
    "    ddx,ddy = dx//4, dy//4\n",
    "    \n",
    "    draw = ImageDraw.Draw(img)\n",
    "\n",
    "    for i in range(n):\n",
    "        for j in range(n):\n",
    "            if solution[i,j]:\n",
    "                draw.ellipse((j * dx + ddx, i * dy + ddy, (j+1) * dx - ddx, (i+1) * dy - ddy), fill='black')\n",
    "                \n",
    "    return img"
   ]
  },
  {
   "cell_type": "markdown",
   "id": "ae3b921d",
   "metadata": {},
   "source": [
    "## Example 1: u/low_on_vitamin_D's from Reddit\n",
    "\n",
    "Original post [here](https://www.reddit.com/r/puzzles/comments/1nlp2rq/queens/)"
   ]
  },
  {
   "cell_type": "markdown",
   "id": "f4a747cd",
   "metadata": {},
   "source": [
    "### Fetch the Data"
   ]
  },
  {
   "cell_type": "code",
   "execution_count": null,
   "id": "a5186196",
   "metadata": {},
   "outputs": [],
   "source": [
    "import requests\n",
    "import io"
   ]
  },
  {
   "cell_type": "code",
   "execution_count": null,
   "id": "a2478646",
   "metadata": {},
   "outputs": [],
   "source": [
    "url = \"https://preview.redd.it/ex1q4jpb29qf1.jpeg?width=1080&crop=smart&auto=webp&s=3de9aeaaa9379ea49652314eb8b991ddc6868b2e\"\n",
    "puzzle_img = Image.open(io.BytesIO(requests.get(url).content))\n",
    "puzzle_img.resize((puzzle_img.size[0]//4, puzzle_img.size[1]//4))"
   ]
  },
  {
   "cell_type": "markdown",
   "id": "90c4c732",
   "metadata": {},
   "source": [
    "### Apply the Transcription"
   ]
  },
  {
   "cell_type": "code",
   "execution_count": null,
   "id": "8b24d264",
   "metadata": {},
   "outputs": [],
   "source": [
    "cropped_img = puzzle_img.crop(np.array(puzzle_img.size * 2) * np.array([0.05, 0.21, 0.95, 0.63]))\n",
    "cropped_img.resize((cropped_img.size[0]//4, cropped_img.size[1]//4))"
   ]
  },
  {
   "cell_type": "code",
   "execution_count": null,
   "id": "f18d3abb",
   "metadata": {},
   "outputs": [],
   "source": [
    "n = 10"
   ]
  },
  {
   "cell_type": "code",
   "execution_count": null,
   "id": "3763d143",
   "metadata": {
    "scrolled": true
   },
   "outputs": [],
   "source": [
    "grid, timg = transcribe_grid(cropped_img, n, verbose=True)\n",
    "grid"
   ]
  },
  {
   "cell_type": "code",
   "execution_count": null,
   "id": "7abffdce",
   "metadata": {},
   "outputs": [],
   "source": [
    "timg.resize((n*32,n*32), Image.NEAREST)"
   ]
  },
  {
   "cell_type": "markdown",
   "id": "803127d3",
   "metadata": {},
   "source": [
    "### Apply Corrections"
   ]
  },
  {
   "cell_type": "code",
   "execution_count": null,
   "id": "3c5be2d4",
   "metadata": {
    "scrolled": true
   },
   "outputs": [],
   "source": [
    "# None"
   ]
  },
  {
   "cell_type": "markdown",
   "id": "3d3d4ac1",
   "metadata": {},
   "source": [
    "### Apply to Solver"
   ]
  },
  {
   "cell_type": "code",
   "execution_count": null,
   "id": "4650607a",
   "metadata": {},
   "outputs": [],
   "source": [
    "solution = complete_solve(grid)\n",
    "solution"
   ]
  },
  {
   "cell_type": "code",
   "execution_count": null,
   "id": "6231752d",
   "metadata": {},
   "outputs": [],
   "source": [
    "draw_solution(cropped_img.copy(), solution).resize((cropped_img.size[0]//4, cropped_img.size[1]//4))"
   ]
  },
  {
   "cell_type": "markdown",
   "id": "843abe30",
   "metadata": {},
   "source": [
    "## Example 2: u/turbo488's from Reddit\n",
    "\n",
    "Original post [here](https://www.reddit.com/r/puzzles/comments/1nh7wyx/queens_puzzle/)"
   ]
  },
  {
   "cell_type": "markdown",
   "id": "292bb033",
   "metadata": {},
   "source": [
    "### Fetch the Data"
   ]
  },
  {
   "cell_type": "code",
   "execution_count": null,
   "id": "b8f30488",
   "metadata": {},
   "outputs": [],
   "source": [
    "import requests\n",
    "import io"
   ]
  },
  {
   "cell_type": "code",
   "execution_count": null,
   "id": "33db088c",
   "metadata": {},
   "outputs": [],
   "source": [
    "url = \"https://preview.redd.it/queens-puzzle-v0-sujcp4kr68pf1.jpeg?width=640&crop=smart&auto=webp&s=108d1d51633d06c877b67bf90920253f1d994687\"\n",
    "puzzle_img = Image.open(io.BytesIO(requests.get(url).content))\n",
    "puzzle_img.resize((puzzle_img.size[0]//4, puzzle_img.size[1]//4))"
   ]
  },
  {
   "cell_type": "markdown",
   "id": "44479d85",
   "metadata": {},
   "source": [
    "### Apply the Transcription"
   ]
  },
  {
   "cell_type": "code",
   "execution_count": null,
   "id": "0d9d644d",
   "metadata": {},
   "outputs": [],
   "source": [
    "cropped_img = puzzle_img.crop(np.array(puzzle_img.size * 2) * np.array([0.05, 0.19, 0.95, 0.62]))\n",
    "cropped_img.resize((cropped_img.size[0]//4, cropped_img.size[1]//4))"
   ]
  },
  {
   "cell_type": "code",
   "execution_count": null,
   "id": "6ba75a4f",
   "metadata": {},
   "outputs": [],
   "source": [
    "n = 8"
   ]
  },
  {
   "cell_type": "code",
   "execution_count": null,
   "id": "dc6df2d5",
   "metadata": {
    "scrolled": true
   },
   "outputs": [],
   "source": [
    "grid, timg = transcribe_grid(cropped_img, n, verbose=True)\n",
    "grid"
   ]
  },
  {
   "cell_type": "code",
   "execution_count": null,
   "id": "34cd9bc3",
   "metadata": {},
   "outputs": [],
   "source": [
    "timg.resize((n*32,n*32), Image.NEAREST)"
   ]
  },
  {
   "cell_type": "markdown",
   "id": "2f70b1fd",
   "metadata": {},
   "source": [
    "### Apply Corrections"
   ]
  },
  {
   "cell_type": "code",
   "execution_count": null,
   "id": "b83f8b08",
   "metadata": {
    "scrolled": true
   },
   "outputs": [],
   "source": [
    "# None"
   ]
  },
  {
   "cell_type": "markdown",
   "id": "f88ab198",
   "metadata": {},
   "source": [
    "### Apply to Solver"
   ]
  },
  {
   "cell_type": "code",
   "execution_count": null,
   "id": "fb55f534",
   "metadata": {},
   "outputs": [],
   "source": [
    "solution = complete_solve(grid)\n",
    "solution"
   ]
  },
  {
   "cell_type": "code",
   "execution_count": null,
   "id": "bea67055",
   "metadata": {
    "scrolled": true
   },
   "outputs": [],
   "source": [
    "draw_solution(cropped_img.copy(), solution).resize((cropped_img.size[0]//4, cropped_img.size[1]//4))"
   ]
  },
  {
   "cell_type": "markdown",
   "id": "9dca6ab0",
   "metadata": {},
   "source": [
    "## Example 3: u/Flamtart0's from Reddit\n",
    "\n",
    "Original post [here](https://www.reddit.com/r/puzzles/comments/1n4ksq1/how_to_even_start/)"
   ]
  },
  {
   "cell_type": "markdown",
   "id": "789091f3",
   "metadata": {},
   "source": [
    "### Fetch the Data"
   ]
  },
  {
   "cell_type": "code",
   "execution_count": null,
   "id": "f850a3ad",
   "metadata": {},
   "outputs": [],
   "source": [
    "import requests\n",
    "import io"
   ]
  },
  {
   "cell_type": "code",
   "execution_count": null,
   "id": "ec8afa82",
   "metadata": {},
   "outputs": [],
   "source": [
    "url = \"https://preview.redd.it/how-to-even-start-v0-n58x4758z9mf1.png?width=640&crop=smart&auto=webp&s=e5a560eb3d8018d368a1312aa332f24371f0310d\"\n",
    "puzzle_img = Image.open(io.BytesIO(requests.get(url).content))\n",
    "puzzle_img.resize((puzzle_img.size[0]//2, puzzle_img.size[1]//2))"
   ]
  },
  {
   "cell_type": "markdown",
   "id": "ae19b776",
   "metadata": {},
   "source": [
    "### Apply the Transcription"
   ]
  },
  {
   "cell_type": "code",
   "execution_count": null,
   "id": "f243e11e",
   "metadata": {},
   "outputs": [],
   "source": [
    "cropped_img = puzzle_img.crop(np.array(puzzle_img.size * 2) * np.array([0.15, 0.11, 0.93, 0.95]))\n",
    "cropped_img.resize((cropped_img.size[0]//2, cropped_img.size[1]//2))"
   ]
  },
  {
   "cell_type": "code",
   "execution_count": null,
   "id": "3c712806",
   "metadata": {},
   "outputs": [],
   "source": [
    "n = 10"
   ]
  },
  {
   "cell_type": "code",
   "execution_count": null,
   "id": "31703bc0",
   "metadata": {
    "scrolled": true
   },
   "outputs": [],
   "source": [
    "grid, timg = transcribe_grid(cropped_img, n, verbose=True)\n",
    "grid"
   ]
  },
  {
   "cell_type": "code",
   "execution_count": null,
   "id": "1d139743",
   "metadata": {},
   "outputs": [],
   "source": [
    "timg.resize((n*32,n*32), Image.NEAREST)"
   ]
  },
  {
   "cell_type": "markdown",
   "id": "ce3c864b",
   "metadata": {},
   "source": [
    "### Apply Corrections"
   ]
  },
  {
   "cell_type": "code",
   "execution_count": null,
   "id": "65880890",
   "metadata": {
    "scrolled": true
   },
   "outputs": [],
   "source": [
    "# None"
   ]
  },
  {
   "cell_type": "markdown",
   "id": "611ad810",
   "metadata": {},
   "source": [
    "### Apply to Solver"
   ]
  },
  {
   "cell_type": "code",
   "execution_count": null,
   "id": "08b2c4a7",
   "metadata": {},
   "outputs": [],
   "source": [
    "solution = complete_solve(grid, l = 2)\n",
    "solution"
   ]
  },
  {
   "cell_type": "code",
   "execution_count": null,
   "id": "1a49166d",
   "metadata": {
    "scrolled": true
   },
   "outputs": [],
   "source": [
    "draw_solution(cropped_img.copy(), solution).resize((cropped_img.size[0]//2, cropped_img.size[1]//2))"
   ]
  },
  {
   "cell_type": "markdown",
   "id": "7d0db6b4",
   "metadata": {},
   "source": [
    "## Example 4: u/LifeInTheAbyss's from Reddit\n",
    "\n",
    "Original post [here](https://www.reddit.com/r/puzzles/comments/1nh03zz/queens_lvl_40_how_to_proceed_next/)"
   ]
  },
  {
   "cell_type": "markdown",
   "id": "558abf76",
   "metadata": {},
   "source": [
    "### Fetch the Data"
   ]
  },
  {
   "cell_type": "code",
   "execution_count": null,
   "id": "e7db41b8",
   "metadata": {},
   "outputs": [],
   "source": [
    "import requests\n",
    "import io"
   ]
  },
  {
   "cell_type": "code",
   "execution_count": null,
   "id": "f1eef616",
   "metadata": {},
   "outputs": [],
   "source": [
    "url = \"https://preview.redd.it/queens-lvl-40-how-to-proceed-next-v0-imlk5b8bj6pf1.png?width=1080&crop=smart&auto=webp&s=3f4ea59d16b18a03c7c7f215c5d25869d5b59ec9\"\n",
    "puzzle_img = Image.open(io.BytesIO(requests.get(url).content))\n",
    "puzzle_img.resize((puzzle_img.size[0]//4, puzzle_img.size[1]//4))"
   ]
  },
  {
   "cell_type": "markdown",
   "id": "eba521bc",
   "metadata": {},
   "source": [
    "### Apply the Transcription"
   ]
  },
  {
   "cell_type": "code",
   "execution_count": null,
   "id": "85b47c45",
   "metadata": {},
   "outputs": [],
   "source": [
    "cropped_img = puzzle_img.crop(np.array(puzzle_img.size * 2) * np.array([0.05, 0.13, 0.95, 0.96]))\n",
    "cropped_img.resize((cropped_img.size[0]//4, cropped_img.size[1]//4))"
   ]
  },
  {
   "cell_type": "code",
   "execution_count": null,
   "id": "b45d69a8",
   "metadata": {},
   "outputs": [],
   "source": [
    "n = 10"
   ]
  },
  {
   "cell_type": "code",
   "execution_count": null,
   "id": "6d9db6b7",
   "metadata": {
    "scrolled": true
   },
   "outputs": [],
   "source": [
    "grid, timg = transcribe_grid(cropped_img, n, verbose=True)\n",
    "grid"
   ]
  },
  {
   "cell_type": "code",
   "execution_count": null,
   "id": "da22e83d",
   "metadata": {},
   "outputs": [],
   "source": [
    "timg.resize((n*32,n*32), Image.NEAREST)"
   ]
  },
  {
   "cell_type": "markdown",
   "id": "1e8d1eec",
   "metadata": {},
   "source": [
    "### Apply Corrections"
   ]
  },
  {
   "cell_type": "code",
   "execution_count": null,
   "id": "599e996c",
   "metadata": {
    "scrolled": true
   },
   "outputs": [],
   "source": [
    "# None"
   ]
  },
  {
   "cell_type": "markdown",
   "id": "77bc794b",
   "metadata": {},
   "source": [
    "### Apply to Solver"
   ]
  },
  {
   "cell_type": "code",
   "execution_count": null,
   "id": "9849e1d2",
   "metadata": {},
   "outputs": [],
   "source": [
    "solution = complete_solve(grid)\n",
    "solution"
   ]
  },
  {
   "cell_type": "code",
   "execution_count": null,
   "id": "bbfff0ad",
   "metadata": {},
   "outputs": [],
   "source": [
    "draw_solution(cropped_img.copy(), solution).resize((cropped_img.size[0]//4, cropped_img.size[1]//4))"
   ]
  },
  {
   "cell_type": "markdown",
   "id": "94041ff6",
   "metadata": {},
   "source": [
    "## Example 5: u/Waitforsquirtle's from Reddit\n",
    "\n",
    "Original post [here](https://www.reddit.com/r/puzzles/comments/1n4mw8r/star_battle_stuck_2_stars/)  \n",
    "Reposted [here](https://www.reddit.com/r/puzzles/comments/1n4h2yr/stuck_on_2_star_star_battle/)"
   ]
  },
  {
   "cell_type": "markdown",
   "id": "6ead66dd",
   "metadata": {},
   "source": [
    "### Fetch the Data"
   ]
  },
  {
   "cell_type": "code",
   "execution_count": null,
   "id": "b0e19840",
   "metadata": {},
   "outputs": [],
   "source": [
    "import requests\n",
    "import io"
   ]
  },
  {
   "cell_type": "code",
   "execution_count": null,
   "id": "f9b00afa",
   "metadata": {},
   "outputs": [],
   "source": [
    "url = \"https://preview.redd.it/star-battle-stuck-2-stars-v0-xhkn8xaxmamf1.jpeg?width=1080&crop=smart&auto=webp&s=3cc92cb2e3c67937857b9e5e69f4d439b6c7ff2a\"\n",
    "puzzle_img = Image.open(io.BytesIO(requests.get(url).content))\n",
    "puzzle_img.resize((puzzle_img.size[0]//4, puzzle_img.size[1]//4))"
   ]
  },
  {
   "cell_type": "markdown",
   "id": "818e7581",
   "metadata": {},
   "source": [
    "### Apply the Transcription"
   ]
  },
  {
   "cell_type": "code",
   "execution_count": null,
   "id": "2915dea1",
   "metadata": {},
   "outputs": [],
   "source": [
    "cropped_img = puzzle_img.crop(np.array(puzzle_img.size * 2) * np.array([0, 0, 1, 1]))\n",
    "cropped_img.resize((cropped_img.size[0]//4, cropped_img.size[1]//4))"
   ]
  },
  {
   "cell_type": "code",
   "execution_count": null,
   "id": "41e71492",
   "metadata": {},
   "outputs": [],
   "source": [
    "n = 9"
   ]
  },
  {
   "cell_type": "code",
   "execution_count": null,
   "id": "cd39dccd",
   "metadata": {
    "scrolled": true
   },
   "outputs": [],
   "source": [
    "grid, timg = transcribe_grid(cropped_img, n, verbose=True)\n",
    "grid"
   ]
  },
  {
   "cell_type": "code",
   "execution_count": null,
   "id": "86edd674",
   "metadata": {},
   "outputs": [],
   "source": [
    "timg.resize((n*32,n*32), Image.NEAREST)"
   ]
  },
  {
   "cell_type": "markdown",
   "id": "57d6f024",
   "metadata": {},
   "source": [
    "### Apply Corrections"
   ]
  },
  {
   "cell_type": "code",
   "execution_count": null,
   "id": "8c479233",
   "metadata": {
    "scrolled": true
   },
   "outputs": [],
   "source": [
    "# None"
   ]
  },
  {
   "cell_type": "markdown",
   "id": "24be60e6",
   "metadata": {},
   "source": [
    "### Apply to Solver"
   ]
  },
  {
   "cell_type": "code",
   "execution_count": null,
   "id": "f939752b",
   "metadata": {},
   "outputs": [],
   "source": [
    "solution = complete_solve(grid, l = 2)\n",
    "solution"
   ]
  },
  {
   "cell_type": "code",
   "execution_count": null,
   "id": "6b5e4f49",
   "metadata": {
    "scrolled": false
   },
   "outputs": [],
   "source": [
    "draw_solution(cropped_img.copy(), solution).resize((cropped_img.size[0]//4, cropped_img.size[1]//4))"
   ]
  },
  {
   "cell_type": "markdown",
   "id": "51abde0a",
   "metadata": {},
   "source": [
    "## Example 6: u/Big_Fox_3996's from Reddit\n",
    "\n",
    "Original post [here](https://www.reddit.com/r/puzzles/comments/1nbriv1/queens_master_queendoku_game_strategy_help/)"
   ]
  },
  {
   "cell_type": "markdown",
   "id": "e73413be",
   "metadata": {},
   "source": [
    "### Fetch the Data"
   ]
  },
  {
   "cell_type": "code",
   "execution_count": null,
   "id": "8b21aac4",
   "metadata": {},
   "outputs": [],
   "source": [
    "import requests\n",
    "import io"
   ]
  },
  {
   "cell_type": "code",
   "execution_count": null,
   "id": "bc4d2d06",
   "metadata": {},
   "outputs": [],
   "source": [
    "url = \"https://preview.redd.it/queens-master-queendoku-game-strategy-help-v0-xk25zt2nqynf1.jpeg?width=1080&crop=smart&auto=webp&s=bb0658281f4b8c53516b2a7e8bf28474441b411f\"\n",
    "puzzle_img = Image.open(io.BytesIO(requests.get(url).content))\n",
    "puzzle_img.resize((puzzle_img.size[0]//4, puzzle_img.size[1]//4))"
   ]
  },
  {
   "cell_type": "markdown",
   "id": "7095fd32",
   "metadata": {},
   "source": [
    "### Apply the Transcription"
   ]
  },
  {
   "cell_type": "code",
   "execution_count": null,
   "id": "57d2b024",
   "metadata": {},
   "outputs": [],
   "source": [
    "cropped_img = puzzle_img.crop(np.array(puzzle_img.size * 2) * np.array([0.04, 0.05, 0.96, 0.94]))\n",
    "cropped_img.resize((cropped_img.size[0]//4, cropped_img.size[1]//4))"
   ]
  },
  {
   "cell_type": "code",
   "execution_count": null,
   "id": "d13254f4",
   "metadata": {},
   "outputs": [],
   "source": [
    "n = 8"
   ]
  },
  {
   "cell_type": "code",
   "execution_count": null,
   "id": "5d678f7d",
   "metadata": {
    "scrolled": true
   },
   "outputs": [],
   "source": [
    "grid, timg = transcribe_grid(cropped_img, n, verbose=True)\n",
    "grid"
   ]
  },
  {
   "cell_type": "code",
   "execution_count": null,
   "id": "c26aeb97",
   "metadata": {},
   "outputs": [],
   "source": [
    "timg.resize((n*32,n*32), Image.NEAREST)"
   ]
  },
  {
   "cell_type": "markdown",
   "id": "a9ed2a63",
   "metadata": {},
   "source": [
    "### Apply Corrections"
   ]
  },
  {
   "cell_type": "code",
   "execution_count": null,
   "id": "ced2453f",
   "metadata": {
    "scrolled": true
   },
   "outputs": [],
   "source": [
    "# None"
   ]
  },
  {
   "cell_type": "markdown",
   "id": "b2f24a29",
   "metadata": {},
   "source": [
    "### Apply to Solver"
   ]
  },
  {
   "cell_type": "code",
   "execution_count": null,
   "id": "367a487f",
   "metadata": {},
   "outputs": [],
   "source": [
    "solution = complete_solve(grid)\n",
    "solution"
   ]
  },
  {
   "cell_type": "code",
   "execution_count": null,
   "id": "9785e9f6",
   "metadata": {
    "scrolled": true
   },
   "outputs": [],
   "source": [
    "draw_solution(cropped_img.copy(), solution).resize((cropped_img.size[0]//4, cropped_img.size[1]//4))"
   ]
  },
  {
   "cell_type": "markdown",
   "id": "8fcc2189",
   "metadata": {},
   "source": [
    "## Example 7: u/billuaa's from Reddit\n",
    "\n",
    "Original post [here](https://www.reddit.com/r/puzzles/comments/1luluyi/linkedin_queens_dev_are_you_okay/)"
   ]
  },
  {
   "cell_type": "markdown",
   "id": "464d4081",
   "metadata": {},
   "source": [
    "### Fetch the Data"
   ]
  },
  {
   "cell_type": "code",
   "execution_count": null,
   "id": "61e1d577",
   "metadata": {},
   "outputs": [],
   "source": [
    "import requests\n",
    "import io"
   ]
  },
  {
   "cell_type": "code",
   "execution_count": null,
   "id": "8b7ffd54",
   "metadata": {},
   "outputs": [],
   "source": [
    "url = \"https://preview.redd.it/linkedin-queens-dev-are-you-okay-v0-pznrul1zvmbf1.jpeg?width=1080&crop=smart&auto=webp&s=480514cf29d5934d2ad3f7cfda8928a5499f0d66\"\n",
    "puzzle_img = Image.open(io.BytesIO(requests.get(url).content))\n",
    "puzzle_img.resize((puzzle_img.size[0]//4, puzzle_img.size[1]//4))"
   ]
  },
  {
   "cell_type": "markdown",
   "id": "b9a7fb60",
   "metadata": {},
   "source": [
    "### Apply the Transcription"
   ]
  },
  {
   "cell_type": "code",
   "execution_count": null,
   "id": "066e12f3",
   "metadata": {},
   "outputs": [],
   "source": [
    "cropped_img = puzzle_img.crop(np.array(puzzle_img.size * 2) * np.array([0.04, 0.19, 0.96, 0.61]))\n",
    "cropped_img.resize((cropped_img.size[0]//4, cropped_img.size[1]//4))"
   ]
  },
  {
   "cell_type": "code",
   "execution_count": null,
   "id": "9ca43bc2",
   "metadata": {},
   "outputs": [],
   "source": [
    "n = 9"
   ]
  },
  {
   "cell_type": "code",
   "execution_count": null,
   "id": "f7ff99f9",
   "metadata": {
    "scrolled": true
   },
   "outputs": [],
   "source": [
    "grid, timg = transcribe_grid(cropped_img, n, verbose=True)\n",
    "grid"
   ]
  },
  {
   "cell_type": "code",
   "execution_count": null,
   "id": "a864329b",
   "metadata": {},
   "outputs": [],
   "source": [
    "timg.resize((n*32,n*32), Image.NEAREST)"
   ]
  },
  {
   "cell_type": "markdown",
   "id": "43ceb2a7",
   "metadata": {},
   "source": [
    "### Apply Corrections"
   ]
  },
  {
   "cell_type": "code",
   "execution_count": null,
   "id": "f64944c1",
   "metadata": {
    "scrolled": true
   },
   "outputs": [],
   "source": [
    "# None"
   ]
  },
  {
   "cell_type": "markdown",
   "id": "356995e8",
   "metadata": {},
   "source": [
    "### Apply to Solver"
   ]
  },
  {
   "cell_type": "code",
   "execution_count": null,
   "id": "2fb82ba5",
   "metadata": {},
   "outputs": [],
   "source": [
    "solution = complete_solve(grid)\n",
    "solution"
   ]
  },
  {
   "cell_type": "code",
   "execution_count": null,
   "id": "e544e836",
   "metadata": {
    "scrolled": true
   },
   "outputs": [],
   "source": [
    "draw_solution(cropped_img.copy(), solution).resize((cropped_img.size[0]//4, cropped_img.size[1]//4))"
   ]
  },
  {
   "cell_type": "code",
   "execution_count": null,
   "id": "aceca9b2",
   "metadata": {},
   "outputs": [],
   "source": []
  }
 ],
 "metadata": {
  "kernelspec": {
   "display_name": "Python 3",
   "language": "python",
   "name": "python3"
  },
  "language_info": {
   "codemirror_mode": {
    "name": "ipython",
    "version": 3
   },
   "file_extension": ".py",
   "mimetype": "text/x-python",
   "name": "python",
   "nbconvert_exporter": "python",
   "pygments_lexer": "ipython3",
   "version": "3.11.7"
  }
 },
 "nbformat": 4,
 "nbformat_minor": 5
}
