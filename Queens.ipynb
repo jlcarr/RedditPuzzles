{
 "cells": [
  {
   "cell_type": "markdown",
   "id": "97438019",
   "metadata": {},
   "source": [
    "# Queens and Star Battle\n",
    "\n",
    "https://www.reddit.com/r/puzzles/comments/1nlp2rq/queens/\n",
    "\n",
    "## Introduction: Problem Definition and Computational Complexity\n",
    "\n",
    "This is a constraint satisfaction puzzle, fairly easily reducible to SAT.\n",
    "\n",
    "### 0-1 Integer Linear Constraint Satisfiability Formulation\n",
    "\n",
    "Specifically, I've set up the constraints in z3 using pseudo-boolean constraints, making it a 0-1 integer linear programming problem (BILP) in which only the constraints need to be satisfied (no optimization), and therefore one of Karp's 21 NP-Complete problems, and therefore reducible to SAT.\n",
    "\n",
    "Here are the constraints written in familiar mathematical notation:\n",
    "\n",
    "$$ x_{i,j} \\in \\mathbb{Z}_2 $$\n",
    "\n",
    "All rows must have exactly $L$ queens/stars.\n",
    "$$ \\sum_{j} x_{i,j} = L \\qquad \\forall i $$\n",
    "\n",
    "All columns must have exactly $L$ queens/stars.\n",
    "$$ \\sum_{i} x_{i,j} = L \\qquad \\forall j $$\n",
    "\n",
    "All shapes must have exactly $L$ queens/stars.\n",
    "$$ \\sum_{x_{i,j} \\in S_{k}} x_{i,j} = L \\qquad \\forall k $$\n",
    "\n",
    "All queens/stars cannot neighbor eachother.\n",
    "$$ x_{i,j} + x_{i',j'} \\leq 1 \\qquad \\forall i,j,i',j' \\colon (|i - i'| \\leq 1) \\land (|j - j'| \\leq 1) \\land \\lnot (i=i' \\land j=j')$$\n",
    "\n",
    "We must have $\\left| S \\right| = n$ (each queen, or $L$ stars, has their own color shape, but not necessarily $\\left| S_k \\right| = n$. This gives us a total of $3n + 4n(n-1) = 4n^{2}-n$ linear contraints.\n",
    "\n",
    "Where:\n",
    "- $n$ is the number of rows and columns, i.e. we have an $n \\times n$ grid.\n",
    "- $x_{i,j}$ is the boolean which is true if cell $(i,j)$ has a queen/star.\n",
    "- $L$ is the number of queens/stars in each row, column, and shape. For classic Queens $L=1$.\n",
    "- $S$ is the set of all colored shapes. Each colored shape, $S_k$, being a set of cells $x_{i,j}$.\n",
    "\n",
    "\n",
    "### Queens Reduction to SAT\n",
    "\n",
    "For the $L=1$ case, classic Queens, the polynomial time reduction to SAT for this problem is particularly easy: Each cell is a boolean and its material implication is all others in its row, column, color and adjacency are False. The largest one of these clauses could be is a puzzle in which every color has only 1 cell (where its queen is) except one which has the remainder of the board: that color will have $n^{2} - \\left( n - 1 \\right)$ cells. Thus the total SAT problem reduction is $O(n^4)$. This actually would be a pretty easy alternative formulation in z3.\n",
    "\n",
    "\n",
    "### References\n",
    "\n",
    "- https://en.wikipedia.org/wiki/Boolean_satisfiability_problem\n",
    "- https://en.wikipedia.org/wiki/Pseudo-Boolean_function\n",
    "- https://en.wikipedia.org/wiki/Integer_programming\n",
    "- https://en.wikipedia.org/wiki/Karp%27s_21_NP-complete_problems\n",
    "- https://en.wikipedia.org/wiki/Polynomial-time_reduction\n",
    "- https://en.wikipedia.org/wiki/Material_conditional"
   ]
  },
  {
   "cell_type": "markdown",
   "id": "f8b25932",
   "metadata": {},
   "source": [
    "## Tools"
   ]
  },
  {
   "cell_type": "markdown",
   "id": "2d20606c",
   "metadata": {},
   "source": [
    "### Transcription"
   ]
  },
  {
   "cell_type": "code",
   "execution_count": null,
   "id": "19ba08db",
   "metadata": {},
   "outputs": [],
   "source": [
    "from PIL import Image, ImageDraw, ImageFilter"
   ]
  },
  {
   "cell_type": "code",
   "execution_count": null,
   "id": "16a9f0f9",
   "metadata": {},
   "outputs": [],
   "source": [
    "import numpy as np"
   ]
  },
  {
   "cell_type": "code",
   "execution_count": null,
   "id": "9bd4b52c",
   "metadata": {},
   "outputs": [],
   "source": [
    "def transcribe_grid(img, n, verbose=False):\n",
    "    dx, dy = np.array(img.size) // n\n",
    "    if verbose:\n",
    "        print(f\"{n} columns, spaced {dx}\")\n",
    "        print(f\"{n} rows, spaced {dy}\")\n",
    "        timg = Image.new(img.mode, (n,n))\n",
    "        \n",
    "    # blur so as to remove texture and get a consistent mode\n",
    "    img = img.convert('RGB')\n",
    "    blured_img = img.filter(ImageFilter.BoxBlur(radius=dx//4))\n",
    "\n",
    "    cmap = dict()\n",
    "    grid = np.zeros((n,n),dtype=int)\n",
    "    for i in range(n):\n",
    "        for j in range(n):\n",
    "            cimg = img.crop((j * dx, i * dy, (j+1) * dx, (i+1) * dy))\n",
    "            # mode color\n",
    "            arr = np.array(cimg)\n",
    "            pixels = arr.reshape(-1, arr.shape[-1])\n",
    "            uniq, counts = np.unique(pixels, axis=0, return_counts=True)\n",
    "            mode_color = uniq[counts.argmax()]\n",
    "            mode_color_hex = '#'+''.join(f\"{c:02x}\" for c in mode_color)\n",
    "            \n",
    "            if mode_color_hex not in cmap:\n",
    "                cmap[mode_color_hex] = len(cmap)\n",
    "            \n",
    "            grid[i,j] = cmap[mode_color_hex]\n",
    "            \n",
    "            if verbose:\n",
    "                print(f\"Processed row {i} / {n}, column {j} / {n}: {mode_color_hex} = {cmap[mode_color_hex]}\")\n",
    "                timg.putpixel((j, i), tuple(mode_color))\n",
    "    if verbose:\n",
    "        return grid, timg\n",
    "    return grid"
   ]
  },
  {
   "cell_type": "markdown",
   "id": "de17eb52",
   "metadata": {},
   "source": [
    "### Solver Setup"
   ]
  },
  {
   "cell_type": "code",
   "execution_count": null,
   "id": "4c87ba9e",
   "metadata": {},
   "outputs": [],
   "source": [
    "import z3"
   ]
  },
  {
   "cell_type": "code",
   "execution_count": null,
   "id": "f8b49ecd",
   "metadata": {},
   "outputs": [],
   "source": [
    "def create_grid_vars(n):\n",
    "    grid_vars = []\n",
    "    for i in range(n):\n",
    "        grid_vars.append([])\n",
    "        for j in range(n):\n",
    "            grid_vars[-1].append(z3.Bool(f\"x_{i}_{j}\"))\n",
    "    return grid_vars"
   ]
  },
  {
   "cell_type": "code",
   "execution_count": null,
   "id": "e6cbdfe6",
   "metadata": {},
   "outputs": [],
   "source": [
    "def setup_solver(grid, grid_vars, l=1):\n",
    "    n = len(grid_vars)\n",
    "    solver = z3.Solver()\n",
    "    \n",
    "    # l per row\n",
    "    for i in range(n):\n",
    "        vs = [grid_vars[i][j] for j in range(n)]\n",
    "        solver.add(z3.AtMost(*vs, l))\n",
    "        solver.add(z3.AtLeast(*vs, l))\n",
    "\n",
    "    # l per col\n",
    "    for j in range(n):\n",
    "        vs = [grid_vars[i][j] for i in range(n)]\n",
    "        solver.add(z3.AtMost(*vs, l))\n",
    "        solver.add(z3.AtLeast(*vs, l))\n",
    "    \n",
    "    # no adjacent\n",
    "    #for i in range(n):\n",
    "    #    for j in range(n):\n",
    "    #        for di in [-1,0,1]:\n",
    "    #            for dj in [-1,0,1]:\n",
    "    #                if (di == 0 and dj == 0) or not (0 <= i+di < n) or not (0 <= j+dj < n):\n",
    "    #                    continue\n",
    "    #                solver.add(z3.AtMost(grid_vars[i][j], grid_vars[i+di][j+dj], 1))\n",
    "\n",
    "    # left-right\n",
    "    for i in range(n):\n",
    "        for j in range(n-1):\n",
    "            solver.add(z3.AtMost(grid_vars[i][j], grid_vars[i][j+1], 1))\n",
    "    # up-down\n",
    "    for i in range(n-1):\n",
    "        for j in range(n):\n",
    "            solver.add(z3.AtMost(grid_vars[i][j], grid_vars[i+1][j], 1))\n",
    "    # diag-down right\n",
    "    for i in range(n-1):\n",
    "        for j in range(n-1):\n",
    "            solver.add(z3.AtMost(grid_vars[i][j], grid_vars[i+1][j+1], 1))\n",
    "    # diag-down left\n",
    "    for i in range(n-1):\n",
    "        for j in range(n-1):\n",
    "            solver.add(z3.AtMost(grid_vars[i][j+1], grid_vars[i+1][j], 1))\n",
    "    \n",
    "    # l per color\n",
    "    color_sets = [[] for i in range(n)]\n",
    "    for i in range(n):\n",
    "        for j in range(n):\n",
    "            color_sets[grid[i,j]].append(grid_vars[i][j])\n",
    "    for i in range(n):\n",
    "        solver.add(z3.AtMost(*color_sets[i], l))\n",
    "        solver.add(z3.AtLeast(*color_sets[i], l))\n",
    "    \n",
    "    return solver"
   ]
  },
  {
   "cell_type": "code",
   "execution_count": null,
   "id": "793bc19e",
   "metadata": {},
   "outputs": [],
   "source": [
    "def complete_solve(grid, l = 1, solve_all=False):\n",
    "    n = grid.shape[0]\n",
    "    \n",
    "    grid_vars = create_grid_vars(n)\n",
    "    solver = setup_solver(grid, grid_vars, l = l)\n",
    "    \n",
    "    solutions = []\n",
    "    while solver.check() == z3.sat:\n",
    "        model = solver.model()\n",
    "        solution = np.array([[bool(model.evaluate(grid_vars[i][j])) for j in range(n)] for i in range(n)])\n",
    "        solutions.append(solution)\n",
    "        solver.add(z3.Not(z3.And([ \n",
    "            grid_vars[i][j] == bool(solution[i][j])\n",
    "            for i in range(n) for j in range(n)])))\n",
    "        if not solve_all:\n",
    "            break\n",
    "    \n",
    "    if solve_all or not solutions:\n",
    "        return solutions\n",
    "    \n",
    "    return solutions[-1]"
   ]
  },
  {
   "cell_type": "markdown",
   "id": "acae68bd",
   "metadata": {},
   "source": [
    "### Visualization"
   ]
  },
  {
   "cell_type": "code",
   "execution_count": null,
   "id": "2019853a",
   "metadata": {},
   "outputs": [],
   "source": [
    "def draw_solution(img, solution):\n",
    "    n = solution.shape[0]\n",
    "    dx, dy = np.array(img.size) // n\n",
    "    ddx,ddy = dx//4, dy//4\n",
    "    \n",
    "    draw = ImageDraw.Draw(img)\n",
    "\n",
    "    for i in range(n):\n",
    "        for j in range(n):\n",
    "            if solution[i,j]:\n",
    "                draw.ellipse((j * dx + ddx, i * dy + ddy, (j+1) * dx - ddx, (i+1) * dy - ddy), fill='black')\n",
    "                \n",
    "    return img"
   ]
  },
  {
   "cell_type": "markdown",
   "id": "cfe5059f",
   "metadata": {},
   "source": [
    "## Example 1: u/low_on_vitamin_D's from Reddit\n",
    "\n",
    "Original post [here](https://www.reddit.com/r/puzzles/comments/1nlp2rq/queens/)"
   ]
  },
  {
   "cell_type": "markdown",
   "id": "f4a747cd",
   "metadata": {},
   "source": [
    "### Fetch the Data"
   ]
  },
  {
   "cell_type": "code",
   "execution_count": null,
   "id": "a5186196",
   "metadata": {},
   "outputs": [],
   "source": [
    "import requests\n",
    "import io"
   ]
  },
  {
   "cell_type": "code",
   "execution_count": null,
   "id": "a2478646",
   "metadata": {},
   "outputs": [],
   "source": [
    "url = \"https://preview.redd.it/ex1q4jpb29qf1.jpeg?width=1080&crop=smart&auto=webp&s=3de9aeaaa9379ea49652314eb8b991ddc6868b2e\"\n",
    "puzzle_img = Image.open(io.BytesIO(requests.get(url).content))\n",
    "puzzle_img.resize((puzzle_img.size[0]//4, puzzle_img.size[1]//4))"
   ]
  },
  {
   "cell_type": "markdown",
   "id": "90c4c732",
   "metadata": {},
   "source": [
    "### Apply the Transcription"
   ]
  },
  {
   "cell_type": "code",
   "execution_count": null,
   "id": "8b24d264",
   "metadata": {},
   "outputs": [],
   "source": [
    "cropped_img = puzzle_img.crop(np.array(puzzle_img.size * 2) * np.array([0.05, 0.21, 0.95, 0.63]))\n",
    "cropped_img.resize((cropped_img.size[0]//4, cropped_img.size[1]//4))"
   ]
  },
  {
   "cell_type": "code",
   "execution_count": null,
   "id": "f18d3abb",
   "metadata": {},
   "outputs": [],
   "source": [
    "n = 10"
   ]
  },
  {
   "cell_type": "code",
   "execution_count": null,
   "id": "3763d143",
   "metadata": {
    "scrolled": true
   },
   "outputs": [],
   "source": [
    "grid, timg = transcribe_grid(cropped_img, n, verbose=True)\n",
    "grid"
   ]
  },
  {
   "cell_type": "code",
   "execution_count": null,
   "id": "253ef4d0",
   "metadata": {},
   "outputs": [],
   "source": [
    "timg.resize((n*32,n*32), Image.NEAREST)"
   ]
  },
  {
   "cell_type": "markdown",
   "id": "803127d3",
   "metadata": {},
   "source": [
    "### Apply Corrections"
   ]
  },
  {
   "cell_type": "code",
   "execution_count": null,
   "id": "3c5be2d4",
   "metadata": {
    "scrolled": true
   },
   "outputs": [],
   "source": [
    "# None"
   ]
  },
  {
   "cell_type": "markdown",
   "id": "3d3d4ac1",
   "metadata": {},
   "source": [
    "### Apply to Solver"
   ]
  },
  {
   "cell_type": "code",
   "execution_count": null,
   "id": "a6d878a4",
   "metadata": {},
   "outputs": [],
   "source": [
    "%%time\n",
    "solution = complete_solve(grid, l=1, solve_all=True)\n",
    "len(solution)"
   ]
  },
  {
   "cell_type": "code",
   "execution_count": null,
   "id": "9c0c92d3",
   "metadata": {},
   "outputs": [],
   "source": [
    "draw_solution(cropped_img.copy(), solution[0]).resize((cropped_img.size[0]//4, cropped_img.size[1]//4))"
   ]
  },
  {
   "cell_type": "markdown",
   "id": "2100a5ac",
   "metadata": {},
   "source": [
    "## Example 2: u/turbo488's from Reddit\n",
    "\n",
    "Original post [here](https://www.reddit.com/r/puzzles/comments/1nh7wyx/queens_puzzle/)"
   ]
  },
  {
   "cell_type": "markdown",
   "id": "dab6b931",
   "metadata": {},
   "source": [
    "### Fetch the Data"
   ]
  },
  {
   "cell_type": "code",
   "execution_count": null,
   "id": "a9744e37",
   "metadata": {},
   "outputs": [],
   "source": [
    "import requests\n",
    "import io"
   ]
  },
  {
   "cell_type": "code",
   "execution_count": null,
   "id": "de419148",
   "metadata": {},
   "outputs": [],
   "source": [
    "url = \"https://preview.redd.it/queens-puzzle-v0-sujcp4kr68pf1.jpeg?width=640&crop=smart&auto=webp&s=108d1d51633d06c877b67bf90920253f1d994687\"\n",
    "puzzle_img = Image.open(io.BytesIO(requests.get(url).content))\n",
    "puzzle_img.resize((puzzle_img.size[0]//4, puzzle_img.size[1]//4))"
   ]
  },
  {
   "cell_type": "markdown",
   "id": "eb4eca28",
   "metadata": {},
   "source": [
    "### Apply the Transcription"
   ]
  },
  {
   "cell_type": "code",
   "execution_count": null,
   "id": "1c1f8910",
   "metadata": {},
   "outputs": [],
   "source": [
    "cropped_img = puzzle_img.crop(np.array(puzzle_img.size * 2) * np.array([0.05, 0.19, 0.95, 0.62]))\n",
    "cropped_img.resize((cropped_img.size[0]//4, cropped_img.size[1]//4))"
   ]
  },
  {
   "cell_type": "code",
   "execution_count": null,
   "id": "4d98775d",
   "metadata": {},
   "outputs": [],
   "source": [
    "n = 8"
   ]
  },
  {
   "cell_type": "code",
   "execution_count": null,
   "id": "3fb67fa5",
   "metadata": {
    "scrolled": true
   },
   "outputs": [],
   "source": [
    "grid, timg = transcribe_grid(cropped_img, n, verbose=True)\n",
    "grid"
   ]
  },
  {
   "cell_type": "code",
   "execution_count": null,
   "id": "ee22a51c",
   "metadata": {},
   "outputs": [],
   "source": [
    "timg.resize((n*32,n*32), Image.NEAREST)"
   ]
  },
  {
   "cell_type": "markdown",
   "id": "0c8a735d",
   "metadata": {},
   "source": [
    "### Apply Corrections"
   ]
  },
  {
   "cell_type": "code",
   "execution_count": null,
   "id": "1a1e1a6c",
   "metadata": {
    "scrolled": true
   },
   "outputs": [],
   "source": [
    "# None"
   ]
  },
  {
   "cell_type": "markdown",
   "id": "f5786c26",
   "metadata": {},
   "source": [
    "### Apply to Solver"
   ]
  },
  {
   "cell_type": "code",
   "execution_count": null,
   "id": "41fd8995",
   "metadata": {},
   "outputs": [],
   "source": [
    "solution = complete_solve(grid, solve_all=True)\n",
    "len(solution)"
   ]
  },
  {
   "cell_type": "code",
   "execution_count": null,
   "id": "79fa9dd9",
   "metadata": {
    "scrolled": true
   },
   "outputs": [],
   "source": [
    "draw_solution(cropped_img.copy(), solution[0]).resize((cropped_img.size[0]//4, cropped_img.size[1]//4))"
   ]
  },
  {
   "cell_type": "markdown",
   "id": "7f82736d",
   "metadata": {},
   "source": [
    "## Example 3: u/Flamtart0's from Reddit\n",
    "\n",
    "Original post [here](https://www.reddit.com/r/puzzles/comments/1n4ksq1/how_to_even_start/)"
   ]
  },
  {
   "cell_type": "markdown",
   "id": "3c5007c5",
   "metadata": {},
   "source": [
    "### Fetch the Data"
   ]
  },
  {
   "cell_type": "code",
   "execution_count": null,
   "id": "075475d6",
   "metadata": {},
   "outputs": [],
   "source": [
    "import requests\n",
    "import io"
   ]
  },
  {
   "cell_type": "code",
   "execution_count": null,
   "id": "db839e1c",
   "metadata": {},
   "outputs": [],
   "source": [
    "url = \"https://preview.redd.it/how-to-even-start-v0-n58x4758z9mf1.png?width=640&crop=smart&auto=webp&s=e5a560eb3d8018d368a1312aa332f24371f0310d\"\n",
    "puzzle_img = Image.open(io.BytesIO(requests.get(url).content))\n",
    "puzzle_img.resize((puzzle_img.size[0]//2, puzzle_img.size[1]//2))"
   ]
  },
  {
   "cell_type": "markdown",
   "id": "002a0894",
   "metadata": {},
   "source": [
    "### Apply the Transcription"
   ]
  },
  {
   "cell_type": "code",
   "execution_count": null,
   "id": "94d3c1c3",
   "metadata": {},
   "outputs": [],
   "source": [
    "cropped_img = puzzle_img.crop(np.array(puzzle_img.size * 2) * np.array([0.15, 0.11, 0.93, 0.95]))\n",
    "cropped_img.resize((cropped_img.size[0]//2, cropped_img.size[1]//2))"
   ]
  },
  {
   "cell_type": "code",
   "execution_count": null,
   "id": "cefa5081",
   "metadata": {},
   "outputs": [],
   "source": [
    "n = 10"
   ]
  },
  {
   "cell_type": "code",
   "execution_count": null,
   "id": "0bbef0bd",
   "metadata": {
    "scrolled": true
   },
   "outputs": [],
   "source": [
    "grid, timg = transcribe_grid(cropped_img, n, verbose=True)\n",
    "grid"
   ]
  },
  {
   "cell_type": "code",
   "execution_count": null,
   "id": "e9a8f4a8",
   "metadata": {},
   "outputs": [],
   "source": [
    "timg.resize((n*32,n*32), Image.NEAREST)"
   ]
  },
  {
   "cell_type": "markdown",
   "id": "1ae081ba",
   "metadata": {},
   "source": [
    "### Apply Corrections"
   ]
  },
  {
   "cell_type": "code",
   "execution_count": null,
   "id": "7cba17db",
   "metadata": {
    "scrolled": true
   },
   "outputs": [],
   "source": [
    "# None"
   ]
  },
  {
   "cell_type": "markdown",
   "id": "40158753",
   "metadata": {},
   "source": [
    "### Apply to Solver"
   ]
  },
  {
   "cell_type": "code",
   "execution_count": null,
   "id": "ec7bee02",
   "metadata": {},
   "outputs": [],
   "source": [
    "solution = complete_solve(grid, l = 2, solve_all=True)\n",
    "len(solution)"
   ]
  },
  {
   "cell_type": "code",
   "execution_count": null,
   "id": "f556392b",
   "metadata": {
    "scrolled": true
   },
   "outputs": [],
   "source": [
    "draw_solution(cropped_img.copy(), solution[0]).resize((cropped_img.size[0]//2, cropped_img.size[1]//2))"
   ]
  },
  {
   "cell_type": "markdown",
   "id": "46239d07",
   "metadata": {},
   "source": [
    "## Example 4: u/LifeInTheAbyss's from Reddit\n",
    "\n",
    "Original post [here](https://www.reddit.com/r/puzzles/comments/1nh03zz/queens_lvl_40_how_to_proceed_next/)"
   ]
  },
  {
   "cell_type": "markdown",
   "id": "0b203df9",
   "metadata": {},
   "source": [
    "### Fetch the Data"
   ]
  },
  {
   "cell_type": "code",
   "execution_count": null,
   "id": "b1d7a9dc",
   "metadata": {},
   "outputs": [],
   "source": [
    "import requests\n",
    "import io"
   ]
  },
  {
   "cell_type": "code",
   "execution_count": null,
   "id": "b5776218",
   "metadata": {},
   "outputs": [],
   "source": [
    "url = \"https://preview.redd.it/queens-lvl-40-how-to-proceed-next-v0-imlk5b8bj6pf1.png?width=1080&crop=smart&auto=webp&s=3f4ea59d16b18a03c7c7f215c5d25869d5b59ec9\"\n",
    "puzzle_img = Image.open(io.BytesIO(requests.get(url).content))\n",
    "puzzle_img.resize((puzzle_img.size[0]//4, puzzle_img.size[1]//4))"
   ]
  },
  {
   "cell_type": "markdown",
   "id": "c59068bb",
   "metadata": {},
   "source": [
    "### Apply the Transcription"
   ]
  },
  {
   "cell_type": "code",
   "execution_count": null,
   "id": "db1f071e",
   "metadata": {},
   "outputs": [],
   "source": [
    "cropped_img = puzzle_img.crop(np.array(puzzle_img.size * 2) * np.array([0.05, 0.13, 0.95, 0.96]))\n",
    "cropped_img.resize((cropped_img.size[0]//4, cropped_img.size[1]//4))"
   ]
  },
  {
   "cell_type": "code",
   "execution_count": null,
   "id": "83e1b306",
   "metadata": {},
   "outputs": [],
   "source": [
    "n = 10"
   ]
  },
  {
   "cell_type": "code",
   "execution_count": null,
   "id": "4cc37090",
   "metadata": {
    "scrolled": true
   },
   "outputs": [],
   "source": [
    "grid, timg = transcribe_grid(cropped_img, n, verbose=True)\n",
    "grid"
   ]
  },
  {
   "cell_type": "code",
   "execution_count": null,
   "id": "d7a383d7",
   "metadata": {},
   "outputs": [],
   "source": [
    "timg.resize((n*32,n*32), Image.NEAREST)"
   ]
  },
  {
   "cell_type": "markdown",
   "id": "c8e081eb",
   "metadata": {},
   "source": [
    "### Apply Corrections"
   ]
  },
  {
   "cell_type": "code",
   "execution_count": null,
   "id": "1cbf45ef",
   "metadata": {
    "scrolled": true
   },
   "outputs": [],
   "source": [
    "# None"
   ]
  },
  {
   "cell_type": "markdown",
   "id": "392f8e8b",
   "metadata": {},
   "source": [
    "### Apply to Solver"
   ]
  },
  {
   "cell_type": "code",
   "execution_count": null,
   "id": "9f9d5f5a",
   "metadata": {},
   "outputs": [],
   "source": [
    "solution = complete_solve(grid, solve_all=True)\n",
    "len(solution)"
   ]
  },
  {
   "cell_type": "code",
   "execution_count": null,
   "id": "1ad39f4f",
   "metadata": {},
   "outputs": [],
   "source": [
    "draw_solution(cropped_img.copy(), solution[0]).resize((cropped_img.size[0]//4, cropped_img.size[1]//4))"
   ]
  },
  {
   "cell_type": "markdown",
   "id": "49cb171e",
   "metadata": {},
   "source": [
    "## Example 5: u/Waitforsquirtle's from Reddit\n",
    "\n",
    "Original post [here](https://www.reddit.com/r/puzzles/comments/1n4mw8r/star_battle_stuck_2_stars/)  \n",
    "Reposted [here](https://www.reddit.com/r/puzzles/comments/1n4h2yr/stuck_on_2_star_star_battle/)"
   ]
  },
  {
   "cell_type": "markdown",
   "id": "65adc6f1",
   "metadata": {},
   "source": [
    "### Fetch the Data"
   ]
  },
  {
   "cell_type": "code",
   "execution_count": null,
   "id": "3713a876",
   "metadata": {},
   "outputs": [],
   "source": [
    "import requests\n",
    "import io"
   ]
  },
  {
   "cell_type": "code",
   "execution_count": null,
   "id": "d17bafcd",
   "metadata": {},
   "outputs": [],
   "source": [
    "url = \"https://preview.redd.it/star-battle-stuck-2-stars-v0-xhkn8xaxmamf1.jpeg?width=1080&crop=smart&auto=webp&s=3cc92cb2e3c67937857b9e5e69f4d439b6c7ff2a\"\n",
    "puzzle_img = Image.open(io.BytesIO(requests.get(url).content))\n",
    "puzzle_img.resize((puzzle_img.size[0]//4, puzzle_img.size[1]//4))"
   ]
  },
  {
   "cell_type": "markdown",
   "id": "a2106e70",
   "metadata": {},
   "source": [
    "### Apply the Transcription"
   ]
  },
  {
   "cell_type": "code",
   "execution_count": null,
   "id": "347a501a",
   "metadata": {},
   "outputs": [],
   "source": [
    "cropped_img = puzzle_img.crop(np.array(puzzle_img.size * 2) * np.array([0, 0, 1, 1]))\n",
    "cropped_img.resize((cropped_img.size[0]//4, cropped_img.size[1]//4))"
   ]
  },
  {
   "cell_type": "code",
   "execution_count": null,
   "id": "8a6cdeb6",
   "metadata": {},
   "outputs": [],
   "source": [
    "n = 9"
   ]
  },
  {
   "cell_type": "code",
   "execution_count": null,
   "id": "dacf08af",
   "metadata": {
    "scrolled": true
   },
   "outputs": [],
   "source": [
    "grid, timg = transcribe_grid(cropped_img, n, verbose=True)\n",
    "grid"
   ]
  },
  {
   "cell_type": "code",
   "execution_count": null,
   "id": "23f7d405",
   "metadata": {},
   "outputs": [],
   "source": [
    "timg.resize((n*32,n*32), Image.NEAREST)"
   ]
  },
  {
   "cell_type": "markdown",
   "id": "8fdb1ca9",
   "metadata": {},
   "source": [
    "### Apply Corrections"
   ]
  },
  {
   "cell_type": "code",
   "execution_count": null,
   "id": "7adb41ea",
   "metadata": {
    "scrolled": true
   },
   "outputs": [],
   "source": [
    "# None"
   ]
  },
  {
   "cell_type": "markdown",
   "id": "23f128e2",
   "metadata": {},
   "source": [
    "### Apply to Solver"
   ]
  },
  {
   "cell_type": "code",
   "execution_count": null,
   "id": "821a6663",
   "metadata": {},
   "outputs": [],
   "source": [
    "solution = complete_solve(grid, l = 2, solve_all=True)\n",
    "len(solution)"
   ]
  },
  {
   "cell_type": "code",
   "execution_count": null,
   "id": "b2e31626",
   "metadata": {
    "scrolled": false
   },
   "outputs": [],
   "source": [
    "draw_solution(cropped_img.copy(), solution[0]).resize((cropped_img.size[0]//4, cropped_img.size[1]//4))"
   ]
  },
  {
   "cell_type": "markdown",
   "id": "e622fe59",
   "metadata": {},
   "source": [
    "## Example 6: u/Big_Fox_3996's from Reddit\n",
    "\n",
    "Original post [here](https://www.reddit.com/r/puzzles/comments/1nbriv1/queens_master_queendoku_game_strategy_help/)"
   ]
  },
  {
   "cell_type": "markdown",
   "id": "523fb640",
   "metadata": {},
   "source": [
    "### Fetch the Data"
   ]
  },
  {
   "cell_type": "code",
   "execution_count": null,
   "id": "8895df91",
   "metadata": {},
   "outputs": [],
   "source": [
    "import requests\n",
    "import io"
   ]
  },
  {
   "cell_type": "code",
   "execution_count": null,
   "id": "8c97bb63",
   "metadata": {},
   "outputs": [],
   "source": [
    "url = \"https://preview.redd.it/queens-master-queendoku-game-strategy-help-v0-xk25zt2nqynf1.jpeg?width=1080&crop=smart&auto=webp&s=bb0658281f4b8c53516b2a7e8bf28474441b411f\"\n",
    "puzzle_img = Image.open(io.BytesIO(requests.get(url).content))\n",
    "puzzle_img.resize((puzzle_img.size[0]//4, puzzle_img.size[1]//4))"
   ]
  },
  {
   "cell_type": "markdown",
   "id": "f8466ffb",
   "metadata": {},
   "source": [
    "### Apply the Transcription"
   ]
  },
  {
   "cell_type": "code",
   "execution_count": null,
   "id": "19755c2a",
   "metadata": {},
   "outputs": [],
   "source": [
    "cropped_img = puzzle_img.crop(np.array(puzzle_img.size * 2) * np.array([0.04, 0.05, 0.96, 0.94]))\n",
    "cropped_img.resize((cropped_img.size[0]//4, cropped_img.size[1]//4))"
   ]
  },
  {
   "cell_type": "code",
   "execution_count": null,
   "id": "2e5a4b80",
   "metadata": {},
   "outputs": [],
   "source": [
    "n = 8"
   ]
  },
  {
   "cell_type": "code",
   "execution_count": null,
   "id": "e3e70696",
   "metadata": {
    "scrolled": true
   },
   "outputs": [],
   "source": [
    "grid, timg = transcribe_grid(cropped_img, n, verbose=True)\n",
    "grid"
   ]
  },
  {
   "cell_type": "code",
   "execution_count": null,
   "id": "361ba717",
   "metadata": {},
   "outputs": [],
   "source": [
    "timg.resize((n*32,n*32), Image.NEAREST)"
   ]
  },
  {
   "cell_type": "markdown",
   "id": "32c893f1",
   "metadata": {},
   "source": [
    "### Apply Corrections"
   ]
  },
  {
   "cell_type": "code",
   "execution_count": null,
   "id": "f78b92a2",
   "metadata": {
    "scrolled": true
   },
   "outputs": [],
   "source": [
    "# None"
   ]
  },
  {
   "cell_type": "markdown",
   "id": "1f91b81c",
   "metadata": {},
   "source": [
    "### Apply to Solver"
   ]
  },
  {
   "cell_type": "code",
   "execution_count": null,
   "id": "6614b65f",
   "metadata": {},
   "outputs": [],
   "source": [
    "solution = complete_solve(grid, solve_all=True)\n",
    "len(solution)"
   ]
  },
  {
   "cell_type": "code",
   "execution_count": null,
   "id": "0126f890",
   "metadata": {
    "scrolled": true
   },
   "outputs": [],
   "source": [
    "draw_solution(cropped_img.copy(), solution[0]).resize((cropped_img.size[0]//4, cropped_img.size[1]//4))"
   ]
  },
  {
   "cell_type": "markdown",
   "id": "6c4a69dc",
   "metadata": {},
   "source": [
    "## Example 7: u/billuaa's from Reddit\n",
    "\n",
    "Original post [here](https://www.reddit.com/r/puzzles/comments/1luluyi/linkedin_queens_dev_are_you_okay/)"
   ]
  },
  {
   "cell_type": "markdown",
   "id": "b5a22164",
   "metadata": {},
   "source": [
    "### Fetch the Data"
   ]
  },
  {
   "cell_type": "code",
   "execution_count": null,
   "id": "fdb6fc70",
   "metadata": {},
   "outputs": [],
   "source": [
    "import requests\n",
    "import io"
   ]
  },
  {
   "cell_type": "code",
   "execution_count": null,
   "id": "38a0d06b",
   "metadata": {},
   "outputs": [],
   "source": [
    "url = \"https://preview.redd.it/linkedin-queens-dev-are-you-okay-v0-pznrul1zvmbf1.jpeg?width=1080&crop=smart&auto=webp&s=480514cf29d5934d2ad3f7cfda8928a5499f0d66\"\n",
    "puzzle_img = Image.open(io.BytesIO(requests.get(url).content))\n",
    "puzzle_img.resize((puzzle_img.size[0]//4, puzzle_img.size[1]//4))"
   ]
  },
  {
   "cell_type": "markdown",
   "id": "e80687ad",
   "metadata": {},
   "source": [
    "### Apply the Transcription"
   ]
  },
  {
   "cell_type": "code",
   "execution_count": null,
   "id": "15b1e5cf",
   "metadata": {},
   "outputs": [],
   "source": [
    "cropped_img = puzzle_img.crop(np.array(puzzle_img.size * 2) * np.array([0.04, 0.19, 0.96, 0.61]))\n",
    "cropped_img.resize((cropped_img.size[0]//4, cropped_img.size[1]//4))"
   ]
  },
  {
   "cell_type": "code",
   "execution_count": null,
   "id": "4f7a27c1",
   "metadata": {},
   "outputs": [],
   "source": [
    "n = 9"
   ]
  },
  {
   "cell_type": "code",
   "execution_count": null,
   "id": "69ff2b6c",
   "metadata": {
    "scrolled": true
   },
   "outputs": [],
   "source": [
    "grid, timg = transcribe_grid(cropped_img, n, verbose=True)\n",
    "grid"
   ]
  },
  {
   "cell_type": "code",
   "execution_count": null,
   "id": "f66b5890",
   "metadata": {},
   "outputs": [],
   "source": [
    "timg.resize((n*32,n*32), Image.NEAREST)"
   ]
  },
  {
   "cell_type": "markdown",
   "id": "5d38b672",
   "metadata": {},
   "source": [
    "### Apply Corrections"
   ]
  },
  {
   "cell_type": "code",
   "execution_count": null,
   "id": "60cf4e08",
   "metadata": {
    "scrolled": true
   },
   "outputs": [],
   "source": [
    "# None"
   ]
  },
  {
   "cell_type": "markdown",
   "id": "631f06c3",
   "metadata": {},
   "source": [
    "### Apply to Solver"
   ]
  },
  {
   "cell_type": "code",
   "execution_count": null,
   "id": "b00c9c85",
   "metadata": {},
   "outputs": [],
   "source": [
    "solution = complete_solve(grid, solve_all=True)\n",
    "len(solution)"
   ]
  },
  {
   "cell_type": "code",
   "execution_count": null,
   "id": "10818e1b",
   "metadata": {
    "scrolled": true
   },
   "outputs": [],
   "source": [
    "draw_solution(cropped_img.copy(), solution[0]).resize((cropped_img.size[0]//4, cropped_img.size[1]//4))"
   ]
  },
  {
   "cell_type": "markdown",
   "id": "879b88cb",
   "metadata": {},
   "source": [
    "## Example 8: u/Acceptare's from Reddit\n",
    "\n",
    "Original post [here](https://www.reddit.com/r/puzzles/comments/1nskecn/crowns_puzzle_i_need_help_and_tips_to_solve_this/)"
   ]
  },
  {
   "cell_type": "markdown",
   "id": "1b31f4a5",
   "metadata": {},
   "source": [
    "### Fetch the Data"
   ]
  },
  {
   "cell_type": "code",
   "execution_count": null,
   "id": "0c39a8d9",
   "metadata": {},
   "outputs": [],
   "source": [
    "import requests\n",
    "import io"
   ]
  },
  {
   "cell_type": "code",
   "execution_count": null,
   "id": "bdf55c8f",
   "metadata": {},
   "outputs": [],
   "source": [
    "url = \"https://preview.redd.it/crowns-puzzle-i-need-help-and-tips-to-solve-this-puzzle-v0-31w4x6lgovrf1.jpeg?width=1080&crop=smart&auto=webp&s=a4ff8f05c22221c84dda85d0dcf7b4099605f43d\"\n",
    "puzzle_img = Image.open(io.BytesIO(requests.get(url).content))\n",
    "puzzle_img.resize((puzzle_img.size[0]//4, puzzle_img.size[1]//4))"
   ]
  },
  {
   "cell_type": "markdown",
   "id": "76dcaef2",
   "metadata": {},
   "source": [
    "### Apply the Transcription"
   ]
  },
  {
   "cell_type": "code",
   "execution_count": null,
   "id": "e64d452c",
   "metadata": {},
   "outputs": [],
   "source": [
    "cropped_img = puzzle_img.crop(np.array(puzzle_img.size * 2) * np.array([0.06, 0.23, 0.94, 0.83]))\n",
    "cropped_img.resize((cropped_img.size[0]//4, cropped_img.size[1]//4))"
   ]
  },
  {
   "cell_type": "code",
   "execution_count": null,
   "id": "9733d6db",
   "metadata": {},
   "outputs": [],
   "source": [
    "n = 14"
   ]
  },
  {
   "cell_type": "code",
   "execution_count": null,
   "id": "783c1a8f",
   "metadata": {
    "scrolled": true
   },
   "outputs": [],
   "source": [
    "grid, timg = transcribe_grid(cropped_img, n, verbose=True)\n",
    "grid"
   ]
  },
  {
   "cell_type": "code",
   "execution_count": null,
   "id": "a7f0657c",
   "metadata": {},
   "outputs": [],
   "source": [
    "timg.resize((n*32,n*32), Image.NEAREST)"
   ]
  },
  {
   "cell_type": "markdown",
   "id": "d729571f",
   "metadata": {},
   "source": [
    "### Apply Corrections"
   ]
  },
  {
   "cell_type": "code",
   "execution_count": null,
   "id": "10c8fa92",
   "metadata": {
    "scrolled": true
   },
   "outputs": [],
   "source": [
    "# None"
   ]
  },
  {
   "cell_type": "markdown",
   "id": "3381c04c",
   "metadata": {},
   "source": [
    "### Apply to Solver"
   ]
  },
  {
   "cell_type": "code",
   "execution_count": null,
   "id": "4e696f48",
   "metadata": {},
   "outputs": [],
   "source": [
    "solution = complete_solve(grid, l=3, solve_all=True)\n",
    "len(solution)"
   ]
  },
  {
   "cell_type": "code",
   "execution_count": null,
   "id": "cc6a28b1",
   "metadata": {
    "scrolled": true
   },
   "outputs": [],
   "source": [
    "draw_solution(cropped_img.copy(), solution[0]).resize((cropped_img.size[0]//4, cropped_img.size[1]//4))"
   ]
  },
  {
   "cell_type": "markdown",
   "id": "a16d3b6e",
   "metadata": {},
   "source": [
    "## Example 9: u/Existing-Owl-2355's from Reddit\n",
    "\n",
    "Original post [here](https://www.reddit.com/r/puzzles/comments/1nqb3nu/help_solving_queens_game/)"
   ]
  },
  {
   "cell_type": "markdown",
   "id": "f048f957",
   "metadata": {},
   "source": [
    "### Fetch the Data"
   ]
  },
  {
   "cell_type": "code",
   "execution_count": null,
   "id": "c659b8d0",
   "metadata": {},
   "outputs": [],
   "source": [
    "import requests\n",
    "import io"
   ]
  },
  {
   "cell_type": "code",
   "execution_count": null,
   "id": "fd7cc63d",
   "metadata": {},
   "outputs": [],
   "source": [
    "url = \"https://preview.redd.it/help-solving-queens-game-v0-gu6gnh8w5crf1.png?width=1080&crop=smart&auto=webp&s=2818fdbc5c79bf24d1a179207f17aa2afaf7ee01\"\n",
    "puzzle_img = Image.open(io.BytesIO(requests.get(url).content))\n",
    "puzzle_img.resize((puzzle_img.size[0]//4, puzzle_img.size[1]//4))"
   ]
  },
  {
   "cell_type": "markdown",
   "id": "0c28d77d",
   "metadata": {},
   "source": [
    "### Apply the Transcription"
   ]
  },
  {
   "cell_type": "code",
   "execution_count": null,
   "id": "6bd897c8",
   "metadata": {},
   "outputs": [],
   "source": [
    "cropped_img = puzzle_img.crop(np.array(puzzle_img.size * 2) * np.array([0.07, 0.04, 0.93, 0.96]))\n",
    "cropped_img.resize((cropped_img.size[0]//4, cropped_img.size[1]//4))"
   ]
  },
  {
   "cell_type": "code",
   "execution_count": null,
   "id": "4636445a",
   "metadata": {},
   "outputs": [],
   "source": [
    "n = 7"
   ]
  },
  {
   "cell_type": "code",
   "execution_count": null,
   "id": "dd9917f4",
   "metadata": {
    "scrolled": true
   },
   "outputs": [],
   "source": [
    "grid, timg = transcribe_grid(cropped_img, n, verbose=True)\n",
    "grid"
   ]
  },
  {
   "cell_type": "code",
   "execution_count": null,
   "id": "5598e2cc",
   "metadata": {},
   "outputs": [],
   "source": [
    "timg.resize((n*32,n*32), Image.NEAREST)"
   ]
  },
  {
   "cell_type": "markdown",
   "id": "90359887",
   "metadata": {},
   "source": [
    "### Apply Corrections"
   ]
  },
  {
   "cell_type": "code",
   "execution_count": null,
   "id": "f38e14ef",
   "metadata": {
    "scrolled": true
   },
   "outputs": [],
   "source": [
    "# None"
   ]
  },
  {
   "cell_type": "markdown",
   "id": "3b5894a0",
   "metadata": {},
   "source": [
    "### Apply to Solver"
   ]
  },
  {
   "cell_type": "code",
   "execution_count": null,
   "id": "c3bddd7d",
   "metadata": {},
   "outputs": [],
   "source": [
    "solution = complete_solve(grid, solve_all=True)\n",
    "len(solution)"
   ]
  },
  {
   "cell_type": "code",
   "execution_count": null,
   "id": "dcfbf821",
   "metadata": {
    "scrolled": true
   },
   "outputs": [],
   "source": [
    "draw_solution(cropped_img.copy(), solution[0]).resize((cropped_img.size[0]//4, cropped_img.size[1]//4))"
   ]
  },
  {
   "cell_type": "markdown",
   "id": "1756cfa1",
   "metadata": {},
   "source": [
    "## Example 10: u/Alive_Ebb6912's from Reddit\n",
    "\n",
    "Original post [here](https://www.reddit.com/r/puzzles/comments/1nu54j6/is_this_solvable_without_guessing/)"
   ]
  },
  {
   "cell_type": "markdown",
   "id": "6b998e54",
   "metadata": {},
   "source": [
    "### Fetch the Data"
   ]
  },
  {
   "cell_type": "code",
   "execution_count": null,
   "id": "4b6ed1b0",
   "metadata": {},
   "outputs": [],
   "source": [
    "import requests\n",
    "import io"
   ]
  },
  {
   "cell_type": "code",
   "execution_count": null,
   "id": "2a63a4ec",
   "metadata": {},
   "outputs": [],
   "source": [
    "url = \"https://preview.redd.it/is-this-solvable-without-guessing-v0-zflpzyhnp8sf1.jpeg?width=1080&crop=smart&auto=webp&s=7d10239cac8a8bc425600c335292191f3525b092\"\n",
    "puzzle_img = Image.open(io.BytesIO(requests.get(url).content))\n",
    "puzzle_img.resize((puzzle_img.size[0]//4, puzzle_img.size[1]//4))"
   ]
  },
  {
   "cell_type": "markdown",
   "id": "e516da0f",
   "metadata": {},
   "source": [
    "### Apply the Transcription"
   ]
  },
  {
   "cell_type": "code",
   "execution_count": null,
   "id": "bdb4bb2a",
   "metadata": {},
   "outputs": [],
   "source": [
    "cropped_img = puzzle_img.crop(np.array(puzzle_img.size * 2) * np.array([0.05, 0.205, 0.95, 0.63]))\n",
    "cropped_img.resize((cropped_img.size[0]//4, cropped_img.size[1]//4))"
   ]
  },
  {
   "cell_type": "code",
   "execution_count": null,
   "id": "7b47c0e7",
   "metadata": {},
   "outputs": [],
   "source": [
    "n = 11"
   ]
  },
  {
   "cell_type": "code",
   "execution_count": null,
   "id": "a8288d4b",
   "metadata": {
    "scrolled": true
   },
   "outputs": [],
   "source": [
    "grid, timg = transcribe_grid(cropped_img, n, verbose=True)\n",
    "grid"
   ]
  },
  {
   "cell_type": "code",
   "execution_count": null,
   "id": "28c796ee",
   "metadata": {},
   "outputs": [],
   "source": [
    "timg.resize((n*32,n*32), Image.NEAREST)"
   ]
  },
  {
   "cell_type": "markdown",
   "id": "1817209e",
   "metadata": {},
   "source": [
    "### Apply Corrections"
   ]
  },
  {
   "cell_type": "code",
   "execution_count": null,
   "id": "9d136577",
   "metadata": {
    "scrolled": true
   },
   "outputs": [],
   "source": [
    "grid[4][0] = 4\n",
    "grid[grid > 5] -= 1"
   ]
  },
  {
   "cell_type": "markdown",
   "id": "dc2cc00d",
   "metadata": {},
   "source": [
    "### Apply to Solver"
   ]
  },
  {
   "cell_type": "code",
   "execution_count": null,
   "id": "7b27f333",
   "metadata": {},
   "outputs": [],
   "source": [
    "solution = complete_solve(grid, l=1, solve_all=True)\n",
    "len(solution)"
   ]
  },
  {
   "cell_type": "code",
   "execution_count": null,
   "id": "2c17bf7e",
   "metadata": {
    "scrolled": true
   },
   "outputs": [],
   "source": [
    "draw_solution(cropped_img.copy(), solution[0]).resize((cropped_img.size[0]//4, cropped_img.size[1]//4))"
   ]
  },
  {
   "cell_type": "markdown",
   "id": "3eb35661",
   "metadata": {},
   "source": [
    "## Example 11: u/MidknighTrain's from Reddit\n",
    "\n",
    "Original post [here](https://www.reddit.com/r/puzzles/comments/1nvvw17/star_battle_puzzle/)"
   ]
  },
  {
   "cell_type": "markdown",
   "id": "b5f2cac5",
   "metadata": {},
   "source": [
    "### Fetch the Data"
   ]
  },
  {
   "cell_type": "code",
   "execution_count": null,
   "id": "b327a0f9",
   "metadata": {},
   "outputs": [],
   "source": [
    "import requests\n",
    "import io"
   ]
  },
  {
   "cell_type": "code",
   "execution_count": null,
   "id": "d4c4b36c",
   "metadata": {},
   "outputs": [],
   "source": [
    "url = \"https://preview.redd.it/star-battle-puzzle-v0-1o0tp3d03nsf1.jpeg?width=1080&crop=smart&auto=webp&s=4da8b26f25bd6bceb8b3920b507c74219a7543e9\"\n",
    "puzzle_img = Image.open(io.BytesIO(requests.get(url).content))\n",
    "puzzle_img.resize((puzzle_img.size[0]//4, puzzle_img.size[1]//4))"
   ]
  },
  {
   "cell_type": "markdown",
   "id": "5bd4792f",
   "metadata": {},
   "source": [
    "### Apply the Transcription"
   ]
  },
  {
   "cell_type": "code",
   "execution_count": null,
   "id": "55934b73",
   "metadata": {},
   "outputs": [],
   "source": [
    "cropped_img = puzzle_img.crop(np.array(puzzle_img.size * 2) * np.array([0.02, 0.1, 0.98, 1]))\n",
    "cropped_img.resize((cropped_img.size[0]//4, cropped_img.size[1]//4))"
   ]
  },
  {
   "cell_type": "code",
   "execution_count": null,
   "id": "04e10d8b",
   "metadata": {},
   "outputs": [],
   "source": [
    "n = 15"
   ]
  },
  {
   "cell_type": "code",
   "execution_count": null,
   "id": "14c642c4",
   "metadata": {
    "scrolled": true
   },
   "outputs": [],
   "source": [
    "grid, timg = transcribe_grid(cropped_img, n, verbose=True)\n",
    "grid"
   ]
  },
  {
   "cell_type": "code",
   "execution_count": null,
   "id": "e632e35b",
   "metadata": {},
   "outputs": [],
   "source": [
    "timg.resize((n*32,n*32), Image.NEAREST)"
   ]
  },
  {
   "cell_type": "markdown",
   "id": "8b603529",
   "metadata": {},
   "source": [
    "### Apply Corrections"
   ]
  },
  {
   "cell_type": "code",
   "execution_count": null,
   "id": "67a8b1a9",
   "metadata": {},
   "outputs": [],
   "source": [
    "grid[:,9:][grid[:,9:]==1] = grid.max()+1\n",
    "grid[1,7:] = grid.max()"
   ]
  },
  {
   "cell_type": "code",
   "execution_count": null,
   "id": "830d06ba",
   "metadata": {
    "scrolled": true
   },
   "outputs": [],
   "source": [
    "grid[:,5:][grid[:,5:]==0] = grid.max()+1"
   ]
  },
  {
   "cell_type": "code",
   "execution_count": null,
   "id": "c2f7ed5e",
   "metadata": {},
   "outputs": [],
   "source": [
    "grid[:,:4][grid[:,:4]==4] = grid.max()+1"
   ]
  },
  {
   "cell_type": "code",
   "execution_count": null,
   "id": "a5662162",
   "metadata": {},
   "outputs": [],
   "source": [
    "grid[8:,4:][grid[8:,4:]==5] = grid.max()+1"
   ]
  },
  {
   "cell_type": "code",
   "execution_count": null,
   "id": "24b11aa0",
   "metadata": {},
   "outputs": [],
   "source": [
    "grid"
   ]
  },
  {
   "cell_type": "markdown",
   "id": "bf84158f",
   "metadata": {},
   "source": [
    "### Apply to Solver"
   ]
  },
  {
   "cell_type": "code",
   "execution_count": null,
   "id": "845ba147",
   "metadata": {},
   "outputs": [],
   "source": [
    "solution = complete_solve(grid, l=3, solve_all=True)\n",
    "len(solution)"
   ]
  },
  {
   "cell_type": "code",
   "execution_count": null,
   "id": "810f4fc5",
   "metadata": {
    "scrolled": true
   },
   "outputs": [],
   "source": [
    "draw_solution(cropped_img.copy(), solution[0]).resize((cropped_img.size[0]//4, cropped_img.size[1]//4))"
   ]
  },
  {
   "cell_type": "code",
   "execution_count": null,
   "id": "93063b8c",
   "metadata": {},
   "outputs": [],
   "source": []
  },
  {
   "cell_type": "code",
   "execution_count": null,
   "id": "02d99341",
   "metadata": {},
   "outputs": [],
   "source": []
  }
 ],
 "metadata": {
  "kernelspec": {
   "display_name": "Python 3",
   "language": "python",
   "name": "python3"
  },
  "language_info": {
   "codemirror_mode": {
    "name": "ipython",
    "version": 3
   },
   "file_extension": ".py",
   "mimetype": "text/x-python",
   "name": "python",
   "nbconvert_exporter": "python",
   "pygments_lexer": "ipython3",
   "version": "3.11.7"
  }
 },
 "nbformat": 4,
 "nbformat_minor": 5
}
