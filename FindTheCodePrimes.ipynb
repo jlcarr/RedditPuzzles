{
 "cells": [
  {
   "cell_type": "markdown",
   "id": "9fd836e9",
   "metadata": {},
   "source": [
    "# Find The Code (with Primes)\n",
    "Original puzzle [here](https://www.reddit.com/r/puzzles/comments/1e9f3tz/find_the_code/) by u/BrainkilledGames\n",
    "\n",
    "Note this puzzle is a variant of [bulls and cows/mastermind/wordle](https://en.wikipedia.org/wiki/Bulls_and_cows)."
   ]
  },
  {
   "cell_type": "markdown",
   "id": "b838112e",
   "metadata": {},
   "source": [
    "## Tools"
   ]
  },
  {
   "cell_type": "code",
   "execution_count": null,
   "id": "20bf4014",
   "metadata": {},
   "outputs": [],
   "source": [
    "from sympy import sieve\n",
    "from sympy.ntheory import isprime"
   ]
  },
  {
   "cell_type": "code",
   "execution_count": null,
   "id": "088c69b2",
   "metadata": {},
   "outputs": [],
   "source": [
    "from collections import Counter"
   ]
  },
  {
   "cell_type": "markdown",
   "id": "e22e2648",
   "metadata": {},
   "source": [
    "## Solution"
   ]
  },
  {
   "cell_type": "markdown",
   "id": "7a17778c",
   "metadata": {},
   "source": [
    "We can start by getting all the candidates for X and Y using some simple prime filtering."
   ]
  },
  {
   "cell_type": "code",
   "execution_count": null,
   "id": "f8a2f06f",
   "metadata": {
    "scrolled": true
   },
   "outputs": [],
   "source": [
    "p_candidates = [p for p in sieve.primerange(7003,7993) \n",
    "                if p%10 == 3 and \n",
    "                isprime(p//100%10 + p//10%10) and \n",
    "                (p//100%10 + p//10%10) >= 10]\n",
    "p_candidates"
   ]
  },
  {
   "cell_type": "markdown",
   "id": "b4e2dcf4",
   "metadata": {},
   "source": [
    "And we can finish off the solve by going over all candidates and brute force testing all solution candidates.\n",
    "\n",
    "We just need to code the bulls and cows/mastermind/wordle logic, which we can do easily with list Python's comprehension and Counter class."
   ]
  },
  {
   "cell_type": "code",
   "execution_count": null,
   "id": "fd9fab2e",
   "metadata": {},
   "outputs": [],
   "source": [
    "solutions = []\n",
    "n = 4\n",
    "for p in p_candidates:\n",
    "    x = p//100%10\n",
    "    y = p//10%10\n",
    "    clues = [\n",
    "        ((3,x,4,7), (0,2)),\n",
    "        ((5,3,9,9), (1,1)),\n",
    "        ((8,8,3,y), (0,1)),\n",
    "        ((7,x,y,3), (1,1)),\n",
    "        ((1,6,6,2), (0,1)),\n",
    "        ((1,5,7,1), (1,0)),\n",
    "    ]\n",
    "    for i in range(10**n):\n",
    "        candidate = [i//10**(n-1-j)%10 for j in range(n)]\n",
    "        solved = True\n",
    "        for guess,report in clues:\n",
    "            cc = Counter([c for c,g in zip(candidate,guess) if c==g])\n",
    "            cw = (Counter(guess) & Counter(candidate)) - cc\n",
    "            if (len(cc),len(cw)) != report:\n",
    "                solved = False\n",
    "                break\n",
    "        if solved:\n",
    "            solutions.append((candidate, x, y))"
   ]
  },
  {
   "cell_type": "code",
   "execution_count": null,
   "id": "d88a4aa2",
   "metadata": {},
   "outputs": [],
   "source": [
    "for code,x,y in solutions:\n",
    "    print(f\"Code solution: {''.join(map(str,code))}\")\n",
    "    print(f\"X: {x}, Y: {y}, X+Y={x+y}, prime: 7{x}{y}3\")\n",
    "    print()"
   ]
  },
  {
   "cell_type": "markdown",
   "id": "9a59431c",
   "metadata": {},
   "source": [
    "### Alternate Interpretation\n",
    "\n",
    "I interpreted each digit in the guess as pairing with a single digit of the solutions. i.e. 2 guess digits cannot map to the same solution digit, even if the 2 guess digits are the same.\n",
    "\n",
    "u/menishh had a different interpretation: each digit in the guess has its cc and cw independently."
   ]
  },
  {
   "cell_type": "code",
   "execution_count": null,
   "id": "93629620",
   "metadata": {},
   "outputs": [],
   "source": [
    "solutions = []\n",
    "n = 4\n",
    "for p in p_candidates:\n",
    "    x = p//100%10\n",
    "    y = p//10%10\n",
    "    clues = [\n",
    "        ((3,x,4,7), (0,2)),\n",
    "        ((5,3,9,9), (1,1)),\n",
    "        ((8,8,3,y), (0,1)),\n",
    "        ((7,x,y,3), (1,1)),\n",
    "        ((1,6,6,2), (0,1)),\n",
    "        ((1,5,7,1), (1,0)),\n",
    "    ]\n",
    "    for i in range(10**n):\n",
    "        candidate = [i//10**(n-1-j)%10 for j in range(n)]\n",
    "        solved = True\n",
    "        for guess,report in clues:\n",
    "            cc = sum([c==g for c,g in zip(candidate,guess)])\n",
    "            cw = sum([g in candidate for g in guess]) - cc\n",
    "            if (cc,cw) != report:\n",
    "                solved = False\n",
    "                break\n",
    "        if solved:\n",
    "            solutions.append((candidate, x, y))"
   ]
  },
  {
   "cell_type": "code",
   "execution_count": null,
   "id": "f0ff2a67",
   "metadata": {},
   "outputs": [],
   "source": [
    "for code,x,y in solutions:\n",
    "    print(f\"Code solution: {''.join(map(str,code))}\")\n",
    "    print(f\"X: {x}, Y: {y}, X+Y={x+y}, prime: 7{x}{y}3\")\n",
    "    print()"
   ]
  },
  {
   "cell_type": "code",
   "execution_count": null,
   "id": "38f631b0",
   "metadata": {},
   "outputs": [],
   "source": []
  }
 ],
 "metadata": {
  "kernelspec": {
   "display_name": "Python 3",
   "language": "python",
   "name": "python3"
  },
  "language_info": {
   "codemirror_mode": {
    "name": "ipython",
    "version": 3
   },
   "file_extension": ".py",
   "mimetype": "text/x-python",
   "name": "python",
   "nbconvert_exporter": "python",
   "pygments_lexer": "ipython3",
   "version": "3.11.7"
  }
 },
 "nbformat": 4,
 "nbformat_minor": 5
}
